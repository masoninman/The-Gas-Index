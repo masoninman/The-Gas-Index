{
 "cells": [
  {
   "cell_type": "code",
   "execution_count": null,
   "metadata": {},
   "outputs": [],
   "source": [
    "import pandas as pd\n",
    "import numpy as np\n",
    "import time\n",
    "\n",
    "# for haversine function for transmission distance calculations\n",
    "from math import radians, cos, sin, asin, sqrt\n",
    "from collections import Counter"
   ]
  },
  {
   "cell_type": "code",
   "execution_count": null,
   "metadata": {},
   "outputs": [],
   "source": [
    "allocate_prod_leakage_mode = 'simple'\n",
    "# for allocating leakage from production areas,\n",
    "# based on energy fraction of dry gas (out of total dry gas + NGLs + oil) \n",
    "# simple: allocate production area leakage based on dry gas share of energy\n",
    "# complex: assign a portion of leakage to well sites and a portion to gathering & processing; \n",
    "# calculate energy shares separately for each (because gathering & processing doesn't include oil)\n",
    "\n",
    "oil_based_leakage_fract = False\n",
    "# for assigning leakage rate for areas without measurements\n",
    "# True: uses the dry gas fraction of DNGO to set a leakage rate\n",
    "# False: uses same leakage rate for all production areas, regardless of oil/gas mix"
   ]
  },
  {
   "cell_type": "code",
   "execution_count": null,
   "metadata": {},
   "outputs": [],
   "source": [
    "# file paths\n",
    "lca_path = '/Users/masoninman/Dropbox/GEM/LCA of natural gas use/'\n",
    "model_path = lca_path + 'US cities LCA of gas model/'\n",
    "eia_path = lca_path + 'EIA data for LCA of gas/EIA gas data released 2020-10-30 (production, consumption, trade)/'\n",
    "inputs_path = model_path + 'US gas model inputs/'"
   ]
  },
  {
   "cell_type": "code",
   "execution_count": null,
   "metadata": {},
   "outputs": [],
   "source": [
    "parameters_file = 'GIM parameters file.xlsx'\n",
    "parameters_excel = pd.ExcelFile(inputs_path + parameters_file)\n",
    "parameters_main = pd.read_excel(\n",
    "    parameters_excel, 'main parameters'\n",
    ").set_index('parameter name')['parameter value']\n",
    "\n",
    "data_year = int(parameters_main.at['data_year'])\n",
    "ch4_fract_in_ng_consumer_grade = parameters_main.at['ch4_fract_in_ng_consumer_grade']\n",
    "ch4_kg_per_mcf = parameters_main.at['ch4_kg_per_mcf']\n",
    "dry_gas_en_dens_btu_per_cf = parameters_main.at['dry_gas_en_dens_btu_per_cf']\n",
    "oil_en_dens_mmbtu_per_bbl = parameters_main.at['oil_en_dens_mmbtu_per_bbl']\n",
    "contiguous_us_only = parameters_main.at['contiguous_us_only']"
   ]
  },
  {
   "cell_type": "code",
   "execution_count": null,
   "metadata": {},
   "outputs": [],
   "source": [
    "# input parameters from previous steps\n",
    "\n",
    "# for input files from gas flows module\n",
    "num_iter = 5000\n",
    "gas_flows_timestamp = '2020-11-12_0701'\n",
    "supply_fract_file = f'GIM gas flows supp_fract_prod_sums_all from gross trade for {data_year}, {num_iter} iterations ({gas_flows_timestamp}).xlsx'"
   ]
  },
  {
   "cell_type": "code",
   "execution_count": null,
   "metadata": {},
   "outputs": [],
   "source": [
    "# input files from external sources\n",
    "eia_release_date = '2020-10-30'\n",
    "\n",
    "# EIA gross gas withdrawals\n",
    "# https://www.eia.gov/dnav/ng/ng_prod_sum_a_EPG0_FGW_mmcf_a.htm\n",
    "eia_gross_prod_file = f'EIA gas gross production NG_PROD_SUM_A_EPG0_FGW_MMCF_A released {eia_release_date}.xls'\n",
    "\n",
    "# EIA energy production files (data by state)\n",
    "dry_gas_prod_file = f'EIA gas dry production NG_PROD_SUM_A_EPG0_FPD_MMCF_A released {eia_release_date}.xls'\n",
    "ngl_prod_file = f'EIA natural gas plant processing - liquids extracted NG_PROD_PP_A_EPL0_YGT_MBBL_A released {eia_release_date}.xls'\n",
    "oil_prod_file = f'EIA crude oil production PET_CRD_CRPDN_ADC_MBBL_A released {eia_release_date}.xls'\n",
    "\n",
    "eia_shale_by_play_file = 'EIA Nat Gas Weekly - shale gas by play thru 2020-09.xlsx'\n",
    "\n",
    "# Natural Gas Plant Liquids (NGLs) by PADD\n",
    "# https://www.eia.gov/dnav/pet/pet_pnp_gp_dc_nus_mbbl_m.htm\n",
    "ngl_padd_file_template = f\"EIA Natural Gas Plant Field Production - PADD _PADD_NUM_ PET_PNP_GP_DC_R_PADD_NUM_0_MBBL_A released {eia_release_date}.xls\"\n",
    "\n",
    "# import EIA Drilling Productivity Report\n",
    "# https://www.eia.gov/petroleum/drilling/\n",
    "dpr_file = 'EIA - Drilling Productivity Report (DPR) 2020-10 - data.xlsx'"
   ]
  },
  {
   "cell_type": "code",
   "execution_count": null,
   "metadata": {},
   "outputs": [],
   "source": [
    "# GAS (AND OIL) PRODUCTION INPUT FILES\n",
    "# state data\n",
    "\n",
    "# state data files\n",
    "\n",
    "# Pennsylvania:\n",
    "pa_unconv_year_file = f'PA DEP oil and gas well production - {data_year} unconventional monthly.xlsx'\n",
    "pa_conv_year_file = f'PA DEP oil and gas well production - {data_year} conventional annual.xlsx'\n",
    "\n",
    "# Ohio:\n",
    "oh_file = f'Ohio DNR - oil and gas - Combined Production {data_year} (conventional & unconventional).xlsx'\n",
    "\n",
    "# New Mexico data goes through May 2020\n",
    "new_mexico_file_template = 'New Mexico OCD - county_name County production by month from 1994 (dl 2020-07-05).xlsx'\n",
    "\n",
    "# Colorado data; includes 2019, 2018, & 2015\n",
    "colorado_file = 'Colorado COGIS oil and gas production by county (dl 2020-08-22).xlsx'\n",
    "\n",
    "# Texas data\n",
    "texas_file = 'Texas oil and gas production by county - 2018-2019 (PDQ dl 2020-10-12).xlsx'\n",
    "\n",
    "# North Dakota & Montana data include 2019\n",
    "nd_gas_file = 'North Dakota DMR gas produced by county monthly 2015-01 to 2019-12 (dl 2020-08-22).xlsx'\n",
    "nd_oil_file = 'North Dakota DMR - Oil production by county 2018 (dl 2020-11-09).xlsx'\n",
    "montana_bakken_file = 'Montana Board of Oil & Gas Conservation - annual production Bakken region counties 1986-2019.xlsx'\n",
    "\n",
    "# Arkansas data; have downloaded through 2019 for Fayetteville region\n",
    "arkansas_file_name_template = \"Arkansas Oil and Gas Commission - Gas production DATA_YEAR - COUNTY County.xlsx\"\n",
    "\n",
    "# Utah data\n",
    "utah_by_county_file = 'Utah Department of Natural Resources - oil and gas production by county annual 2010-2019.csv'\n",
    "\n",
    "# Louisiana data\n",
    "la_file = 'Louisiana DNR - oil and gas production by parish 2018 (dl 2020-10-20).xlsx'\n",
    "\n",
    "# California data\n",
    "ca_by_county_file = 'California Dept of Cons - oil and gas production by county.xlsx'"
   ]
  },
  {
   "cell_type": "code",
   "execution_count": null,
   "metadata": {},
   "outputs": [],
   "source": [
    "# energy density of NGLs\n",
    "# calculated in model, based on NGL mix and energy densities of individual NGLs\n",
    "# (ethane, propane, etc., in file below)\n",
    "ngl_en_dens_file = 'GIM input file - energy densities of NGLs.xlsx'\n",
    "\n",
    "state_padd_file = 'US states by PADD.xlsx'"
   ]
  },
  {
   "cell_type": "code",
   "execution_count": null,
   "metadata": {},
   "outputs": [],
   "source": [
    "# standard conversions\n",
    "g_per_kg = 1e3\n",
    "g_per_ton = 1e6\n",
    "gg_per_ton = 1e-3\n",
    "\n",
    "mcf_per_mmcf = 1e3\n",
    "mmcf_per_bcf = 1e3\n",
    "\n",
    "# conversion to metric units\n",
    "bcf_per_bcm = 35.315"
   ]
  },
  {
   "cell_type": "code",
   "execution_count": null,
   "metadata": {},
   "outputs": [],
   "source": [
    "# list of jurisidictions to calculate leakage for, based on their gas consumption\n",
    "# contiguous 48 states + DC\n",
    "contig_48_states_dc = [\n",
    "    'Alabama', 'Arizona', 'Arkansas', 'California', 'Colorado',\n",
    "    'Connecticut', 'Delaware', 'District of Columbia', 'Florida', 'Georgia',\n",
    "    'Idaho', 'Illinois', 'Indiana', 'Iowa', 'Kansas', 'Kentucky',\n",
    "    'Louisiana', 'Maine', 'Maryland', 'Massachusetts', 'Michigan',\n",
    "    'Minnesota', 'Mississippi', 'Missouri', 'Montana', 'Nebraska', 'Nevada',\n",
    "    'New Hampshire', 'New Jersey', 'New Mexico', 'New York',\n",
    "    'North Carolina', 'North Dakota', 'Ohio', 'Oklahoma', 'Oregon',\n",
    "    'Pennsylvania', 'Rhode Island', 'South Carolina', 'South Dakota',\n",
    "    'Tennessee', 'Texas', 'Utah', 'Vermont', 'Virginia', 'Washington',\n",
    "    'West Virginia', 'Wisconsin', 'Wyoming'\n",
    "]"
   ]
  },
  {
   "cell_type": "markdown",
   "metadata": {},
   "source": [
    "## functions"
   ]
  },
  {
   "cell_type": "code",
   "execution_count": null,
   "metadata": {},
   "outputs": [],
   "source": [
    "def read_dry_gas_prod(dry_gas_prod_file):\n",
    "    \"\"\"\n",
    "    EIA data on dry gas production from https://www.eia.gov/dnav/ng/ng_prod_sum_a_EPG0_VGM_mmcf_a.htm\n",
    "    \n",
    "    Original units are MMcf, which are retained in output.\n",
    "    \"\"\"\n",
    "    dry_1 = pd.read_excel(\n",
    "        eia_path + dry_gas_prod_file, \n",
    "        header=2,\n",
    "        sheet_name='Data 1'\n",
    "    )\n",
    "\n",
    "    dry_2 = pd.read_excel(\n",
    "        eia_path + dry_gas_prod_file, \n",
    "        header=2,\n",
    "        sheet_name='Data 2'\n",
    "    )\n",
    "\n",
    "    dry = pd.merge(dry_1, dry_2, left_on='Date', right_on='Date')\n",
    "\n",
    "    dry['year'] = dry['Date'].astype(str).str.split('-').str[0].astype(int)\n",
    "\n",
    "    # only keep years from 2000 onward\n",
    "    # prior to 1997 used different accounting, and there was a discrepancy in 1999\n",
    "    # drop latest year (2019) because it doesn't include breakdown by state for 'Other States' (sheet 'Data 2')\n",
    "    dry = dry.loc[(dry['year']>=2000) & (dry['year']<=data_year)]\n",
    "\n",
    "    dry = dry.set_index('year')\n",
    "    dry = dry.drop('Date', axis=1)\n",
    "\n",
    "    for col in dry.columns:\n",
    "        if ' Dry Natural Gas Production (MMcf)' in col:\n",
    "            new_col = col.replace(' Dry Natural Gas Production (MMcf)', '')\n",
    "            dry = dry.rename(columns={col: new_col})\n",
    "        elif ' Dry Natural Gas Production (Million Cubic Feet)' in col:\n",
    "            new_col = col.replace(' Dry Natural Gas Production (Million Cubic Feet)', '')\n",
    "            dry = dry.rename(columns={col: new_col})\n",
    "        elif ' Dry Natural Gas Production  (Million Cubic Feet)' in col:\n",
    "            new_col = col.replace(' Dry Natural Gas Production  (Million Cubic Feet)', '')\n",
    "            dry = dry.rename(columns={col: new_col})\n",
    "        elif ' Natural Gas Dry Production (Million Cubic Feet)' in col:\n",
    "            new_col = col.replace(' Natural Gas Dry Production (Million Cubic Feet)', '')\n",
    "            dry = dry.rename(columns={col: new_col})\n",
    "        elif ' Dry Production of Natural Gas (Million Cubic Feet)' in col:\n",
    "            new_col = col.replace(' Dry Production of Natural Gas (Million Cubic Feet)', '')\n",
    "            dry = dry.rename(columns={col: new_col})\n",
    "        else:\n",
    "            print(col)\n",
    "\n",
    "    # rename Fed GOM\n",
    "    dry = dry.rename(columns={'Federal Offshore--Gulf of Mexico': 'GOM (federal)'})\n",
    "\n",
    "    gas_dry_year_mmcf = dry.loc[data_year]\n",
    "    gas_dry_year_mmcf.name = 'dry gas production (MMcf)'\n",
    "    \n",
    "    gas_dry_year_mmbtu = gas_dry_year_mmcf * dry_gas_en_dens_btu_per_cf\n",
    "    gas_dry_year_mmbtu.name = 'dry gas production (mmbtu)'\n",
    "    \n",
    "    return(gas_dry_year_mmcf, gas_dry_year_mmbtu)"
   ]
  },
  {
   "cell_type": "code",
   "execution_count": null,
   "metadata": {},
   "outputs": [],
   "source": [
    "def read_ngl_prod(ngl_prod_file):\n",
    "    \"\"\"\n",
    "    Read EIA data on NGL production volumes by state\n",
    "    \n",
    "    Natural Gas Plant Processing, Total Liquids Extracted\n",
    "    https://www.eia.gov/dnav/ng/ng_prod_pp_a_EPL0_ygt_Mbbl_a.htm    \n",
    "    \n",
    "    In data sheet, units are thousand bbl per year\n",
    "    \"\"\"\n",
    "    df = pd.read_excel(eia_path + ngl_prod_file, sheet_name='Data 1', header=2)\n",
    "    df['year'] = df['Date'].dt.year\n",
    "    df = df.drop('Date', axis=1)\n",
    "    df = df.set_index('year')\n",
    "\n",
    "    for col in df.columns:\n",
    "        if 'Extracted in ' in col or 'Onshore' in col:\n",
    "            df = df.drop(col, axis=1)\n",
    "        else:\n",
    "            pass\n",
    "\n",
    "    for col in df.columns:\n",
    "        new_col = col\n",
    "        new_col = new_col.split(' Natural Gas Total Liquids Extracted')[0]\n",
    "        new_col = new_col.split(' Total Liquids Extracted')[0] # for anomaly in ID column\n",
    "        new_col = new_col.strip()\n",
    "        df = df.rename(columns={col: new_col})\n",
    "\n",
    "    # rename 'Gulf Of Mexico'\n",
    "    df = df.rename(columns={'Gulf Of Mexico': 'GOM (federal)'})\n",
    "\n",
    "    # convert units from thousand bbls (starting file) to bbl\n",
    "    df = df * 1000\n",
    "\n",
    "    ngl_prod_bbl_year = df.loc[data_year]\n",
    "    ngl_prod_bbl_year.name = 'NGL production (bbl)'\n",
    "    \n",
    "    return ngl_prod_bbl_year"
   ]
  },
  {
   "cell_type": "code",
   "execution_count": null,
   "metadata": {},
   "outputs": [],
   "source": [
    "def read_oil_prod(oil_prod_file):\n",
    "    \"\"\"\n",
    "    Read EIA data on oil production by state\n",
    "    \n",
    "    EIA page \"Crude Oil Production\":\n",
    "    https://www.eia.gov/dnav/pet/pet_crd_crpdn_adc_mbbl_a.htm\n",
    "    \n",
    "    Units are thousands of barrels; converted for output to barrels.\n",
    "    \"\"\"\n",
    "    df = pd.read_excel(eia_path + oil_prod_file, sheet_name='Data 1', header=2)\n",
    "\n",
    "    df['year'] = df['Date'].dt.year\n",
    "    df = df.drop('Date', axis=1)\n",
    "    df = df.set_index('year')\n",
    "\n",
    "    for col in df.columns:\n",
    "        new_col = col\n",
    "        new_col = new_col.split(' Field Production of Crude Oil')[0]\n",
    "        df = df.rename(columns={col: new_col})\n",
    "        \n",
    "    # rename Fed GOM\n",
    "    df = df.rename(columns={'Federal Offshore--Gulf of Mexico': 'GOM (federal)'})\n",
    "\n",
    "    # convert from thousand barrels to bbl\n",
    "    oil_prod_bbl = df * 1000  \n",
    "\n",
    "    oil_prod_bbl_year = oil_prod_bbl.loc[data_year]\n",
    "    oil_prod_bbl_year.name = 'oil production (bbl)'    \n",
    "    \n",
    "    return oil_prod_bbl_year"
   ]
  },
  {
   "cell_type": "code",
   "execution_count": null,
   "metadata": {},
   "outputs": [],
   "source": [
    "def read_leakage_rates_and_methane_share_parameters(parameters_excel):\n",
    "    \"\"\"\n",
    "    Read input sheets with natural gas leakage rates and shares of methane in natural gas.\n",
    "    \n",
    "    (For gross natural gas extracted, prior to processing.)\n",
    "    \"\"\"\n",
    "    leak_fractions = pd.read_excel(parameters_excel, 'production area leakage')\n",
    "    \n",
    "    leak_fractions['region & subregion'] = leak_fractions['region'].astype(str) + ' (' + leak_fractions['subregion'].astype(str) + ')'\n",
    "    leak_fractions['region & subregion'] = leak_fractions['region & subregion'].str.split(' \\(nan\\)').str[0]\n",
    "    leak_fractions = leak_fractions.set_index('region & subregion')\n",
    "    leak_fractions = leak_fractions.drop(['region', 'subregion', 'leakage data source'], axis=1)['gas leakage % (relative to gross gas extraction)']\n",
    "    \n",
    "    # -----------\n",
    "    ch4_shares_of_wet_gas = pd.read_excel(parameters_excel, sheet_name='methane share in gross gas')\n",
    "    \n",
    "    # transform into series\n",
    "    ch4_shares_of_wet_gas = ch4_shares_of_wet_gas.set_index('region')['% CH4 by volume in gross gas']\n",
    "    \n",
    "    return(leak_fractions, ch4_shares_of_wet_gas)"
   ]
  },
  {
   "cell_type": "code",
   "execution_count": null,
   "metadata": {},
   "outputs": [],
   "source": [
    "def read_dpr_basin_prod_stats(dpr_file):\n",
    "    \"\"\"\n",
    "    Read data from EIA Drilling Productivity Report (DPR)\n",
    "    https://www.eia.gov/petroleum/drilling/\n",
    "    \"\"\"\n",
    "    dpr_excel = pd.ExcelFile(inputs_path + dpr_file)\n",
    "    \n",
    "    # read EIA DPR sheet with county names\n",
    "    dpr_counties = pd.read_excel(dpr_excel, sheet_name='RegionCounties')\n",
    "    \n",
    "    # convert production per day to absolute quantities\n",
    "    days_per_mo = {1: 31, 2: 28, 3: 31, 4: 30, 5: 31, 6: 30, 7: 31, 8: 31, 9: 30, 10: 31, 11: 30, 12: 31}\n",
    "\n",
    "    dpr_basin_prod_stats = pd.DataFrame() # initialize\n",
    "\n",
    "    for basin in ['Anadarko', 'Appalachia', 'Bakken', 'Eagle Ford', 'Haynesville', 'Niobrara', 'Permian']:\n",
    "        dpr = pd.read_excel(dpr_excel, sheet_name=f'{basin} Region', header=1)\n",
    "        dpr = dpr.drop([\n",
    "            'Rig count', \n",
    "            'Production per rig', 'Production per rig.1', \n",
    "            'Legacy production change', 'Legacy production change.1'\n",
    "        ], axis=1)\n",
    "        dpr = dpr.rename(columns={\n",
    "            'Month': 'date',\n",
    "            'Total production': 'oil production (bbl/d)',\n",
    "            'Total production.1': 'gas production (Mcf/d)'\n",
    "        })\n",
    "\n",
    "        # convert from Mcf/d to Bcm/mo, and from bbl/d to bbl/mo\n",
    "        dpr['days'] = dpr['date'].dt.month.replace(days_per_mo)\n",
    "        dpr['gas production Bcf/mo'] = dpr['gas production (Mcf/d)'] * dpr['days'] / 1e6\n",
    "        dpr['oil production bbl/mo'] = dpr['oil production (bbl/d)'] * dpr['days']\n",
    "\n",
    "        # calculate sums for data_year\n",
    "        dpr_gas_bcf_year = dpr.loc[dpr['date'].dt.year==data_year]['gas production Bcf/mo'].sum()        \n",
    "        dpr_oil_bbl_year = dpr.loc[dpr['date'].dt.year==data_year]['oil production bbl/mo'].sum()\n",
    "        \n",
    "        dpr_basin_prod_stats.at[f'{basin} region', 'gas production Bcf/y'] = dpr_gas_bcf_year\n",
    "        dpr_basin_prod_stats.at[f'{basin} region', 'oil production bbl/y'] = dpr_oil_bbl_year\n",
    "        \n",
    "    return(dpr_counties, dpr_basin_prod_stats)"
   ]
  },
  {
   "cell_type": "code",
   "execution_count": null,
   "metadata": {},
   "outputs": [],
   "source": [
    "def calculate_ngl_energy(ngl_prod_bbl_year, ngls_padd_en_dens, state_padd):\n",
    "    # merge in PADD info\n",
    "    df = pd.merge(\n",
    "        ngl_prod_bbl_year,\n",
    "        state_padd[['PADD']],\n",
    "        left_index=True, right_index=True,\n",
    "        how='left'\n",
    "    )\n",
    "\n",
    "    # merge in NGL energy density for corresponding PADD\n",
    "    df = pd.merge(\n",
    "        df,\n",
    "        ngls_padd_en_dens,\n",
    "        left_on='PADD', right_index=True,\n",
    "        how='outer',\n",
    "    )\n",
    "\n",
    "    # calculate weighted average\n",
    "    df_p = df.dropna(subset=['NGL energy density (mmbtu/bbl)'])\n",
    "    weights = df_p[['NGL production (bbl)', 'NGL energy density (mmbtu/bbl)']].product(axis=1, skipna=False).sum()\n",
    "    average = weights / df_p['NGL production (bbl)'].sum()\n",
    "    \n",
    "    # for rows with no entry for NGL energy density, fill in natioanl average\n",
    "    # will apply to U.S. total, Alaska, and GOM (federal)\n",
    "    df = df.fillna(average)\n",
    "    \n",
    "    ngl_energy_density = df['NGL energy density (mmbtu/bbl)']\n",
    "\n",
    "    # calculate energy content of NGLs\n",
    "    ngl_prod_mmbtu_year = df[\n",
    "        ['NGL production (bbl)', 'NGL energy density (mmbtu/bbl)']].product(axis=1, skipna=False)\n",
    "    \n",
    "#     print(ngl_prod_mmbtu_year.head()) # for db\n",
    "    \n",
    "    ngl_prod_mmbtu_year.name = 'NGL production (mmbtu)'\n",
    "    \n",
    "    return(ngl_energy_density, ngl_prod_mmbtu_year)"
   ]
  },
  {
   "cell_type": "code",
   "execution_count": null,
   "metadata": {},
   "outputs": [],
   "source": [
    "def calculate_gas_fraction_of_energy_by_state(\n",
    "    gas_dry_year_mmcf,\n",
    "    gas_dry_year_mmbtu,\n",
    "    ngl_prod_bbl_year,\n",
    "    ngl_energy_density,\n",
    "    ngl_prod_mmbtu_year,\n",
    "    oil_prod_bbl_year,\n",
    "    oil_en_dens_mmbtu_per_bbl,\n",
    "):\n",
    "    quad_per_mmbtu = 1e-9\n",
    "    \n",
    "    oil_prod_mmbtu_year = oil_prod_bbl_year * oil_en_dens_mmbtu_per_bbl\n",
    "    oil_prod_mmbtu_year.name = 'oil production (mmbtu)'\n",
    "    \n",
    "    # merge gas, NGL, oil energy data\n",
    "    df = pd.concat([\n",
    "        gas_dry_year_mmcf,\n",
    "        gas_dry_year_mmbtu,\n",
    "        ngl_prod_bbl_year,\n",
    "        ngl_energy_density,\n",
    "        ngl_prod_mmbtu_year,\n",
    "        oil_prod_bbl_year,\n",
    "        oil_prod_mmbtu_year,\n",
    "    ], axis=1)\n",
    "    \n",
    "    df['dry gas energy density (mmbtu/MMcf)'] = dry_gas_en_dens_btu_per_cf\n",
    "    # NGL energy density df merged above\n",
    "    df['oil energy density (mmbtu/bbl)'] = oil_en_dens_mmbtu_per_bbl\n",
    "\n",
    "    df = df.loc[~df.index.str.contains('Onshore')]\n",
    "    df = df.loc[~df.index.str.contains('Offshore')]\n",
    "    df = df.loc[df.index!='Other States']\n",
    "    # exclude all rows for entire PADDs\n",
    "    # (note: this does *not* exclude Federal offshore GOM & Federal Offshore PADD 5 (CA federal offshore))\n",
    "    df = df.loc[~df.index.isin(\n",
    "        ['East Coast (PADD 1)', 'Midwest (PADD 2)', 'Gulf Coast (PADD 3)',\n",
    "         'Rocky Mountain (PADD 4)', 'West Coast (PADD 5)'])]\n",
    "    df = df.loc[df.index!='Alaska South']\n",
    "    df = df.loc[df.index!='Alaska North Slope Crude Oil Production (Thousand Barrels)']\n",
    "    \n",
    "    df['dgno mmbtu'] = df[[\n",
    "        'dry gas production (mmbtu)',\n",
    "        'NGL production (mmbtu)',\n",
    "        'oil production (mmbtu)',\n",
    "    ]].sum(axis=1)\n",
    "\n",
    "    df['dry gas en fract'] = df['dry gas production (mmbtu)']/df['dgno mmbtu']\n",
    "    df['NGL en fract'] = df['NGL production (mmbtu)']/df['dgno mmbtu']\n",
    "    df['oil en fract'] = df['oil production (mmbtu)']/df['dgno mmbtu']\n",
    "    df = df.sort_values(by='dgno mmbtu', ascending=False)\n",
    "    df[['dry gas en fract', 'NGL en fract', 'oil en fract']]\n",
    "    \n",
    "    # reorder columns (note: index is states/areas)\n",
    "    df = df[[\n",
    "        'dry gas production (MMcf)', 'dry gas energy density (mmbtu/MMcf)', 'dry gas production (mmbtu)',\n",
    "        'NGL production (bbl)', 'NGL energy density (mmbtu/bbl)', 'NGL production (mmbtu)', \n",
    "        'oil production (bbl)', 'oil energy density (mmbtu/bbl)', 'oil production (mmbtu)',\n",
    "        'dgno mmbtu', 'dry gas en fract', 'NGL en fract', 'oil en fract'\n",
    "    ]]\n",
    "    \n",
    "    table_en_fract = df\n",
    "    \n",
    "    print(f\"show values in quads for whole US (incl Alaska) for {data_year}:\") # for db\n",
    "    print(f\"DGNO quads: {round(df.loc['U.S.'].at['dgno mmbtu'].sum() * quad_per_mmbtu, 1)}\")\n",
    "    table_en_fract_quads = (df.loc['U.S.']*quad_per_mmbtu).round(1)\n",
    "    print(f\"dry gas (quads): {table_en_fract_quads.at['dry gas production (mmbtu)']}\")\n",
    "    print(f\"oil (quads): {table_en_fract_quads.at['oil production (mmbtu)']}\")\n",
    "    print(f\"NGL (quads): {table_en_fract_quads.at['NGL production (mmbtu)']}\")\n",
    "    print(\"for comparison, EIA says production for 2018 was (in quads): gas: ~32, oil: ~23, NGL: ~6\")\n",
    "    # source: https://www.eia.gov/todayinenergy/detail.php?id=39392; values eyeballed from graph\n",
    "\n",
    "    dry_gas_en_fract_of_dgno_by_state = df['dry gas en fract']\n",
    "    dry_gas_en_fract_of_dgno_by_state.name = 'DG fract of DGNO'\n",
    "    \n",
    "    return(table_en_fract, dry_gas_en_fract_of_dgno_by_state)"
   ]
  },
  {
   "cell_type": "code",
   "execution_count": null,
   "metadata": {},
   "outputs": [],
   "source": [
    "def calculate_production_leakage_allocated_to_gas_selected_region(\n",
    "    state, region,\n",
    "    sel_gross_gas_yr_mcf, sel_leak_fract,\n",
    "    leak_by_area\n",
    "):\n",
    "    \"\"\"\n",
    "    From data on gas, NGL, and oil production, calculate volume and mass of CH4 leakage.\n",
    "    \n",
    "    Allocate portion of the CH4 leakage to dry gas (consumer-grade); remainder allocated to NGL and oil.\n",
    "    \"\"\"\n",
    "    \n",
    "    sel_gross_gas_yr_bcf = sel_gross_gas_yr_mcf / 1e6\n",
    "    \n",
    "    sel_leak_ng_mcf = sel_gross_gas_yr_mcf * sel_leak_fract\n",
    "    \n",
    "    # special handling for Appalachia CH4 fractions\n",
    "    if region == 'Appalachia region - Pennsylvania northeast':\n",
    "        region_for_ch4_share = 'Appalachia region - northeast Pennsylvania'\n",
    "    elif region in ['Appalachia region - Pennsylvania southwest',\n",
    "                    'Appalachia region - Pennsylvania other',\n",
    "                    'Appalachia region - West Virginia',\n",
    "                    'Appalachia region - Ohio']:                    \n",
    "        region_for_ch4_share = 'Appalachia region - outside northeast Pennsylvania'\n",
    "    else:\n",
    "        region_for_ch4_share = region\n",
    "    \n",
    "    # calculate leakage from all oil-NGL-gas production\n",
    "    ch4_shares_of_gross_gas_region = ch4_shares_of_wet_gas.at[region_for_ch4_share]\n",
    "    sel_leak_ch4_mcf = sel_leak_ng_mcf * ch4_shares_of_gross_gas_region\n",
    "    sel_leak_ch4_bcf = sel_leak_ch4_mcf / 1e6\n",
    "    sel_leak_ch4_ton = sel_leak_ch4_mcf * (ch4_kg_per_mcf/1000)\n",
    "\n",
    "    # put data into df leak_by_area\n",
    "    state_leak_list = [\n",
    "        state, \n",
    "        region,\n",
    "        sel_gross_gas_yr_bcf,\n",
    "        sel_leak_fract,\n",
    "        ch4_shares_of_gross_gas_region,\n",
    "        sel_leak_ch4_bcf,\n",
    "        sel_leak_ch4_ton,\n",
    "    ]\n",
    "    \n",
    "    leak_by_area.loc[len(leak_by_area)] = state_leak_list\n",
    "    \n",
    "    return leak_by_area"
   ]
  },
  {
   "cell_type": "code",
   "execution_count": null,
   "metadata": {},
   "outputs": [],
   "source": [
    "def fill_in_docs_table_3_1(\n",
    "    prod_area,\n",
    "    gas_wet_yr_mcf,\n",
    "    methane_leak_fract,\n",
    "    docs_table_3_1\n",
    "):\n",
    "    gas_wet_yr_bcf = gas_wet_yr_mcf / 1e6\n",
    "    \n",
    "    # divide production by us_cont_gross_prod_tcf to get %\n",
    "    fract_cont_us = gas_wet_yr_bcf / us_cont_gross_prod_bcf\n",
    "    \n",
    "    # put data into df docs_table_3_1\n",
    "    table_1_list = [\n",
    "        prod_area, \n",
    "        gas_wet_yr_bcf,\n",
    "        fract_cont_us,\n",
    "        methane_leak_fract,\n",
    "    ]\n",
    "    \n",
    "    docs_table_3_1.loc[len(docs_table_3_1)] = table_1_list\n",
    "    \n",
    "    return docs_table_3_1"
   ]
  },
  {
   "cell_type": "code",
   "execution_count": null,
   "metadata": {},
   "outputs": [],
   "source": [
    "def compile_eia_gross_prod_all_states(eia_gross_prod_excel, data_year):\n",
    "    eia_gross_prod_1 = pd.read_excel(eia_gross_prod_excel, sheet_name='Data 1', header=2)\n",
    "    eia_gross_prod_2 = pd.read_excel(eia_gross_prod_excel, sheet_name='Data 2', header=2)\n",
    "\n",
    "    eia_gross_prod_1['year'] = eia_gross_prod_1['Date'].dt.year\n",
    "    eia_gross_prod_1 = eia_gross_prod_1.set_index('year')\n",
    "    eia_gross_prod_1 = eia_gross_prod_1.drop('Date', axis=1)\n",
    "\n",
    "    eia_gross_prod_2['year'] = eia_gross_prod_2['Date'].dt.year\n",
    "    eia_gross_prod_2 = eia_gross_prod_2.set_index('year')\n",
    "    eia_gross_prod_2 = eia_gross_prod_2.drop('Date', axis=1)\n",
    "    \n",
    "    df = pd.concat([eia_gross_prod_1, eia_gross_prod_2], axis=1)\n",
    "    \n",
    "    for col in df.columns:\n",
    "        new_col = col\n",
    "        new_col = new_col.replace(' (MMcf)', '')\n",
    "        new_col = new_col.replace(' Natural Gas Gross Withdrawals', '')\n",
    "        \n",
    "        # anomaly for Idaho\n",
    "        new_col = new_col.replace(' Gross Withdrawals of Natural Gas (Million Cubic Feet)', '')\n",
    "            \n",
    "        df = df.rename(columns={col: new_col})\n",
    "        \n",
    "    # rename Fed GOM\n",
    "    df = df.rename(columns={'Federal Offshore--Gulf of Mexico': 'GOM (federal)'})\n",
    "    \n",
    "    # original units are MMcf; convert to Mcf\n",
    "    eia_gross_prod_all_yr_mmcf = df.loc[data_year]\n",
    "    eia_gross_prod_all_yr_mmcf.name = 'gross gas production (MMcf)'\n",
    "    \n",
    "    return eia_gross_prod_all_yr_mmcf"
   ]
  },
  {
   "cell_type": "code",
   "execution_count": null,
   "metadata": {},
   "outputs": [],
   "source": [
    "def read_eia_gross_production_contiguous_us(eia_gross_prod_excel):\n",
    "    eia_gross_prod_main = pd.read_excel(eia_gross_prod_excel, sheet_name='Data 1', header=2)\n",
    "    eia_gross_prod_main['year'] = eia_gross_prod_main['Date'].dt.year\n",
    "    eia_gross_prod_main = eia_gross_prod_main.set_index('year')\n",
    "    us_gross_prod = eia_gross_prod_main.at[data_year, 'U.S. Natural Gas Gross Withdrawals (MMcf)']\n",
    "    alaska_gross_prod = eia_gross_prod_main.at[data_year, 'Alaska Natural Gas Gross Withdrawals (MMcf)']\n",
    "    us_cont_gross_prod_bcf = (us_gross_prod - alaska_gross_prod)/1e3\n",
    "    \n",
    "    return us_cont_gross_prod_bcf"
   ]
  },
  {
   "cell_type": "markdown",
   "metadata": {},
   "source": [
    "### functions to read state production data"
   ]
  },
  {
   "cell_type": "code",
   "execution_count": null,
   "metadata": {},
   "outputs": [],
   "source": [
    "def get_annual_production_from_eia_shale_by_play(column_name, data_year):\n",
    "    # convert production per day to absolute quantities\n",
    "    days_per_mo = {1: 31, 2: 28, 3: 31, 4: 30, 5: 31, 6: 30, 7: 31, 8: 31, 9: 30, 10: 31, 11: 30, 12: 31}\n",
    "\n",
    "    df = eia_shale_by_play.copy()[['Date', column_name]]\n",
    "    \n",
    "    # convert from Bcf/d to MMcf/mo\n",
    "    df['days per mo'] = df['Date'].dt.month.replace(days_per_mo)\n",
    "    df['gas production MMcf/mo'] = df[column_name] * df['days per mo'] * 1000\n",
    "    df['year'] = df['Date'].dt.year\n",
    "    df = df.groupby('year')['gas production MMcf/mo'].sum()\n",
    "    play_prod_year_mmcf = df.loc[data_year]\n",
    "    \n",
    "    return play_prod_year_mmcf"
   ]
  },
  {
   "cell_type": "code",
   "execution_count": null,
   "metadata": {},
   "outputs": [],
   "source": [
    "def read_pennsylvania_state_data(pa_unconv_year_file, pa_conv_year_file):\n",
    "    pa_unconv_year = pd.read_excel(\n",
    "        inputs_path + pa_unconv_year_file, \n",
    "        sheet_name='Oil_Gas_Well_Production', \n",
    "        header=10)\n",
    "    pa_conv_year = pd.read_excel(\n",
    "        inputs_path + pa_conv_year_file,\n",
    "        sheet_name='Oil_Gas_Well_Production', \n",
    "        header=10)\n",
    "\n",
    "    # combine into one df\n",
    "    pa_year = pd.concat([pa_unconv_year, pa_conv_year], sort=False)\n",
    "\n",
    "    # exclude totals rows\n",
    "    pa_year = pa_year.loc[pa_year['Well Permit #']!='Total']\n",
    "    \n",
    "    return(pa_year, pa_unconv_year, pa_conv_year)"
   ]
  },
  {
   "cell_type": "code",
   "execution_count": null,
   "metadata": {},
   "outputs": [],
   "source": [
    "def read_west_virginia_production_data():\n",
    "    # West Virginia\n",
    "    # as described in sheet 'DATA DESCRIPTIONS':\n",
    "    # gas (production) units are Mcf\n",
    "    # oil (production) units are bbl\n",
    "    # NGL (production) units are bbl (note: \"Only HOR6A horizontal wells are required to report NGL\")\n",
    "    if data_year == 2018:\n",
    "        wv_file = 'West Virginia oil and gas production totals 2018 (2019-06-17).xlsx'\n",
    "        sel_sheet = 'DATA'\n",
    "        header_row = 1\n",
    "    elif data_year == 2019:\n",
    "        wv_file = 'West Virginia oil and gas production totals 2019 (2020-07-31).xlsx'\n",
    "        sel_sheet = 'Sheet1'\n",
    "        header_row = 0\n",
    "    else:\n",
    "        print(\"Error!\" + f\" Haven't entered WV data for {data_year}\")\n",
    "        print(\"Use data for prior year, assuming production is the same.\")\n",
    "        wv_file = 'West Virginia oil and gas production totals 2019 (2020-07-31).xlsx'\n",
    "\n",
    "    wv_year_excel = pd.ExcelFile(inputs_path + wv_file)\n",
    "    df = pd.read_excel(wv_year_excel, sheet_name=sel_sheet, header=header_row)\n",
    "    df = df.rename(columns={'Total_Gas ': 'Total_Gas'})\n",
    "    \n",
    "    if data_year == 2018:\n",
    "        df = df.rename(columns={'Well_type': 'Well Type'})\n",
    "        \n",
    "    df = df[['Year', 'API', 'County', 'Well Type', 'Total_Gas', 'Total_NGL', 'Total_Oil']]\n",
    "        \n",
    "    wv_year = df\n",
    "    \n",
    "    return wv_year"
   ]
  },
  {
   "cell_type": "code",
   "execution_count": null,
   "metadata": {},
   "outputs": [],
   "source": [
    "def read_ohio_production_data():\n",
    "    # Ohio Department of Natural Resources\n",
    "    # https://ohiodnr.gov/wps/portal/gov/odnr/discover-and-learn/safety-conservation/about-odnr/oil-gas/oil-gas-resources/production\n",
    "    # \"Each record has the following fields: production year, county, township, API well number, owner name, well name, well number, \n",
    "    # oil (1 barrel = 42 US gallons), gas (1 MCF = 1,000 cubic feet of gas), brine (1 barrel = 42 US gallons), days in production, \n",
    "    # date completed, and the plugging date (if applicable).\"\n",
    "    try:\n",
    "        oh_year = pd.read_excel(inputs_path + oh_file, sheet_name=str(data_year), header=0)\n",
    "        oh_year = oh_year.rename(columns={'QUARTER: N/A, 1, 2, 3, 4': 'QUARTER'})\n",
    "        \n",
    "        return oh_year\n",
    "    \n",
    "    except:\n",
    "        # there isn't a combined data file; try files that are split conv & unconv\n",
    "        try:\n",
    "            oh_conv_file = f'Ohio DNR - oil and gas - Conventional Production Annual {data_year}.xls'\n",
    "            oh_unconv_file = f'Ohio DNR - oil and gas - Horizontal Production All Quarters {data_year}.xls'\n",
    "\n",
    "            oh_conv = pd.read_excel(inputs_path + oh_conv_file, sheet_name='Sheet1', header=0)\n",
    "\n",
    "            oh_unconv = pd.read_excel(inputs_path + oh_unconv_file, sheet_name='Sheet1', header=0)\n",
    "\n",
    "            quarters_dict = {\n",
    "                'QUARTER 1,2,3,4': 'QUARTER',\n",
    "                'QUARTER: N/A, 1, 2, 3, 4': 'QUARTER',\n",
    "                'QUARTER n/a,1,2,3,4:': 'QUARTER',\n",
    "            }\n",
    "            oh_conv = oh_conv.rename(columns=quarters_dict)\n",
    "            oh_unconv = oh_unconv.rename(columns=quarters_dict)\n",
    "\n",
    "            oh_unconv = oh_unconv.rename(columns={\n",
    "                'OIL_': 'OIL', 'GAS_': 'GAS', 'BRINE_': 'BRINE',\n",
    "                'PRODUCTION YEAR': 'YEAR',\n",
    "            })\n",
    "            \n",
    "            oh_year = pd.concat([oh_conv, oh_unconv], sort=False)\n",
    "            \n",
    "            oh_year = oh_year[['YEAR', 'QUARTER', 'API WELL NUMBER', 'COUNTY', 'OIL', 'GAS']]\n",
    "            \n",
    "            return oh_year\n",
    "\n",
    "        except:\n",
    "            print(\"Error!\" + f\" Haven't entered OH data for {data_year}\")"
   ]
  },
  {
   "cell_type": "code",
   "execution_count": null,
   "metadata": {},
   "outputs": [],
   "source": [
    "def read_new_mexico_production_data(new_mexico_file_template):\n",
    "    \"\"\"\n",
    "    New Mexico data from Oil Conservation Division (OCD)\n",
    "    https://wwwapps.emnrd.state.nm.us/ocd/ocdpermitting//Reporting/Production/CountyProductionInjectionSummary.aspx\n",
    "\n",
    "    individual files for each county, with data for each month from 1994 onward\n",
    "    each year of data has headers\n",
    "\n",
    "    units not stated in NM OCD files\n",
    "    EIA gross withdrawals for NM in 2018: 1,527,319 MMcf\n",
    "    sum from counties above, if units are Mcf: 1,491,957 MMcf\n",
    "    similar values, so units in NM OCD data must be Mcf\n",
    "\n",
    "    also, pages for individual wells state gas production as Mcf:\n",
    "    https://wwwapps.emnrd.state.nm.us/ocd/ocdpermitting/Data/WellDetails.aspx?api=30-025-34112\n",
    "    \"\"\"\n",
    "    nm_county_dfs_list = [] # initialize\n",
    "    for county in ['Chaves', 'Eddy', 'Lea', 'McKinley', 'Rio Arriba', 'Roosevelt', 'San Juan', 'Sandoval']:\n",
    "        file_name = new_mexico_file_template.replace('county_name', county)\n",
    "        df = pd.read_excel(inputs_path + file_name, header=5)\n",
    "\n",
    "        # exclude rows with column names & drop empty rows\n",
    "        df = df.loc[df['Year']!='Year']\n",
    "        df = df.dropna(how='all')\n",
    "\n",
    "        df['County'] = county\n",
    "        nm_county_dfs_list.append(df)\n",
    "\n",
    "    new_mexico_wells = pd.concat(nm_county_dfs_list, sort=False)\n",
    "    new_mexico_wells_year = new_mexico_wells.loc[new_mexico_wells['Year']==data_year]\n",
    "    new_mexico_year = new_mexico_wells_year.groupby('County')[['Produced Gas', 'Produced Oil']].sum().reset_index()\n",
    "    \n",
    "    return new_mexico_year"
   ]
  },
  {
   "cell_type": "code",
   "execution_count": null,
   "metadata": {},
   "outputs": [],
   "source": [
    "def read_colorado_production_data(colorado_file):\n",
    "    # Colorado data from COGIS: https://cogcc.state.co.us/cogis/ProductionSearch.asp\n",
    "    # can show annual totals by county; copy results from webpage into Excel\n",
    "    colorado = pd.read_excel(inputs_path + colorado_file, sheet_name=str(data_year))\n",
    "    # clean up county names & gas data\n",
    "    colorado['County'] = colorado['County'].str.replace(u' \\xa0', '').str.strip()\n",
    "\n",
    "    for col in ['Gas Sales (MCF)', 'Gas Production (MCF)', 'Oil Production (barrels)']:\n",
    "        colorado[col] = colorado[col].astype(str).str.replace('\\xa0 ', '').str.strip()\n",
    "        colorado[col] = colorado[col].replace('', '0')\n",
    "        colorado[col] = colorado[col].astype(float)\n",
    "        \n",
    "    return colorado"
   ]
  },
  {
   "cell_type": "code",
   "execution_count": null,
   "metadata": {},
   "outputs": [],
   "source": [
    "def read_wyoming_production_data():\n",
    "    \"\"\"\n",
    "    Read data from state of Wyoming for oil and gas production.\n",
    "    \n",
    "    Note: 2019 file downloaded from the state website seemed to have a problem. Had to open in Excel and save as xlsx.\n",
    "    \"\"\"\n",
    "    wyoming_file = '' # intialize\n",
    "    try:\n",
    "        if data_year == 2018:\n",
    "            wyoming_file = 'Wyoming Oil and Gas Conservation Commission - oil and gas production 2018.csv'\n",
    "            wyoming_wells = pd.read_csv(inputs_path + wyoming_file, sep='\\t')\n",
    "        elif data_year == 2019:\n",
    "            wyoming_file = 'Wyoming Oil and Gas Conservation Commission - oil and gas production 2019.xlsx'\n",
    "            wyoming_wells = pd.read_excel(inputs_path + wyoming_file)\n",
    "    except:\n",
    "        print(\"Error!\" + f\" Wyoming data not entered for {data_year}.\")\n",
    "\n",
    "    if wyoming_file != '':\n",
    "        # appears units are Mcf; value for 2018 is then 1,814,790 MMcf, \n",
    "        # which is ~5% higher than EIA's value for gross extraction in 2018 of 1,720,897\n",
    "        all_mon_list_gas = [] # initialize\n",
    "        all_mon_list_oil = [] # initialize\n",
    "        for mon in ['Jan', 'Feb', 'Mar', 'Apr', 'May', 'Jun', 'Jul', 'Aug', 'Sep', 'Oct', 'Nov', 'Dec']:\n",
    "            mon_gas = wyoming_wells.groupby('Countyname')[f'{mon}_gas'].sum().reset_index()\n",
    "            mon_gas = mon_gas.rename(columns={f'{mon}_gas': 'gas (Mcf)'})\n",
    "            all_mon_list_gas += [mon_gas]\n",
    "\n",
    "            mon_oil = wyoming_wells.groupby('Countyname')[f'{mon}_oil'].sum().reset_index()\n",
    "            mon_oil = mon_oil.rename(columns={f'{mon}_oil': 'oil (bbl)'})\n",
    "            all_mon_list_oil += [mon_oil]\n",
    "            \n",
    "        all_mon_gas = pd.concat(all_mon_list_gas, sort=False)\n",
    "        all_mon_oil = pd.concat(all_mon_list_oil, sort=False)\n",
    "\n",
    "        wyoming_gas = all_mon_gas.groupby('Countyname')['gas (Mcf)'].sum().reset_index()\n",
    "        wyoming_oil = all_mon_oil.groupby('Countyname')['oil (bbl)'].sum().reset_index()\n",
    "        \n",
    "        wyoming = pd.merge(wyoming_gas, wyoming_oil, on='Countyname', how='outer')\n",
    "        \n",
    "        return wyoming\n",
    "\n",
    "    else:\n",
    "        print(f\"Didn't attempt to processing wyoming_file: {wyoming_file}\")"
   ]
  },
  {
   "cell_type": "code",
   "execution_count": null,
   "metadata": {},
   "outputs": [],
   "source": [
    "def read_texas_production_data(texas_file):\n",
    "    \"\"\"\n",
    "    Get Texas county-level data from Railroad Commission,\n",
    "    from version that shows statewide data (although doesn't allow for download):\n",
    "    http://webapps.rrc.texas.gov/PDQ\n",
    "    \"\"\"\n",
    "    if data_year in [2018, 2019]:\n",
    "        texas = pd.read_excel(inputs_path + texas_file, sheet_name=str(data_year))\n",
    "        texas['Gas total (Mcf)'] = texas[['Casinghead (MCF)', 'GW Gas (MCF)']].sum(axis=1)\n",
    "        texas['Oil total (bbl)'] = texas[['Oil (BBL)', 'Condensate (BBL)']].sum(axis=1)\n",
    "        \n",
    "        texas = texas.drop(\n",
    "            ['Oil (BBL)', 'Casinghead (MCF)', 'GW Gas (MCF)', 'Condensate (BBL)'], \n",
    "            axis=1)\n",
    "        \n",
    "        return texas\n",
    "        \n",
    "    else:\n",
    "        print('Error!' + f\" Data set not entered for Texas for {data_year}\")"
   ]
  },
  {
   "cell_type": "code",
   "execution_count": null,
   "metadata": {},
   "outputs": [],
   "source": [
    "def read_state_padds(state_padd_file):\n",
    "    \"\"\"\n",
    "    Input sheet for assigning each state to a PADD.\n",
    "    \n",
    "    Used to then assign NGL energy density by PADD.\n",
    "    \"\"\"\n",
    "    state_padd = pd.read_excel(inputs_path + state_padd_file)\n",
    "    state_padd['producing state'] = state_padd['producing state'].replace('Gulf Of Mexico', 'GOM (federal)')\n",
    "\n",
    "    state_padd = state_padd.set_index('producing state')\n",
    "\n",
    "    state_padd['PADD'] = 'PADD ' + state_padd['PADD'].astype(str)\n",
    "    \n",
    "    return state_padd"
   ]
  },
  {
   "cell_type": "code",
   "execution_count": null,
   "metadata": {},
   "outputs": [],
   "source": [
    "def calculate_padd_ngl_energy_density(ngl_en_dens_file, ngl_padd_file_template):\n",
    "    \"\"\"\n",
    "    Calculate energy density of NGLs in each PADD\n",
    "    Read file on energy densities of NGLs, from:\n",
    "    \n",
    "    Natural Gas Plant Field Production\n",
    "    https://www.eia.gov/dnav/pet/pet_pnp_gp_dc_r10_mbbl_a.htm\n",
    "    \"\"\"\n",
    "    ngl_en_dens = pd.read_excel(inputs_path + ngl_en_dens_file, sheet_name='data')\n",
    "    ngl_en_dens = ngl_en_dens.set_index('NGL category')['million Btu per barrel of liquid']\n",
    "    \n",
    "    ngls_padd_en_dens = pd.Series(dtype=float)\n",
    "    ngls_padd_en_dens.name = 'NGL energy density (mmbtu/bbl)'\n",
    "    \n",
    "    for padd_num in range(1, 5+1):\n",
    "        ngl_padd_file = ngl_padd_file_template.replace('_PADD_NUM_', str(padd_num))\n",
    "        ngl_padd = pd.read_excel(eia_path + ngl_padd_file, sheet_name='Data 1', header=2)\n",
    "\n",
    "        ngl_padd['year'] = ngl_padd['Date'].dt.year\n",
    "        ngl_padd = ngl_padd.drop('Date', axis=1)\n",
    "        ngl_padd = ngl_padd.set_index('year')\n",
    "\n",
    "        for col in ngl_padd.columns:\n",
    "            new_col = col\n",
    "            new_col = new_col.split(f' (PADD {padd_num}) ')[-1]\n",
    "            new_col = new_col.split('Field Production of ')[-1]\n",
    "            new_col = new_col.split(' (Thousand Barrels)')[0]\n",
    "            ngl_padd = ngl_padd.rename(columns={col: new_col})\n",
    "\n",
    "        ngl_padd = ngl_padd.drop([\n",
    "            'Gas Plant Production of Pentanes Plus',\n",
    "            'Gas Plant Production of Liquified Petroleum Gases'\n",
    "        ], axis=1)\n",
    "\n",
    "        ngl_padd_year = ngl_padd.loc[data_year]\n",
    "        ngl_padd_year.index.name = 'NGL category'\n",
    "\n",
    "        # convert units from kbbl to bbl; also add units to series name\n",
    "        ngl_padd_year_bbl = ngl_padd_year * 1000\n",
    "        ngl_padd_year_bbl.name = 'bbl liquids'\n",
    "        \n",
    "        # change 'Natural Gasoline' to 'Pentanes Plus' to match energy density input sheet\n",
    "        ngl_padd_year_bbl = ngl_padd_year_bbl.rename({'Natural Gasoline': 'Pentanes Plus'})\n",
    "        \n",
    "        # drop total NGLs volume\n",
    "        ngl_padd_year_bbl = ngl_padd_year_bbl.drop('Natural Gas Liquids')\n",
    "\n",
    "        # calculate energy of NGLs\n",
    "        merged = pd.merge(ngl_padd_year_bbl, ngl_en_dens, left_index=True, right_index=True, how='outer')\n",
    "        merged['mmbtu NGLs'] = merged[['bbl liquids', 'million Btu per barrel of liquid']].product(axis=1, skipna=True)\n",
    "        \n",
    "        # weighted average energy density of NGLs\n",
    "        ngls_padd_en_dens_mmbtu_per_bbl = merged['mmbtu NGLs'].sum() / merged['bbl liquids'].sum()\n",
    "        print(f\"PADD {padd_num}: {round(ngls_padd_en_dens_mmbtu_per_bbl, 2)} mmbtu/bbl\")\n",
    "\n",
    "        ngls_padd_en_dens.at[f'PADD {padd_num}'] = ngls_padd_en_dens_mmbtu_per_bbl\n",
    "    \n",
    "    return ngls_padd_en_dens"
   ]
  },
  {
   "cell_type": "code",
   "execution_count": null,
   "metadata": {},
   "outputs": [],
   "source": [
    "def read_eia_shale_gas_by_play(eia_shale_by_play_file):\n",
    "    \"\"\"\n",
    "    Read EIA data for shale gas by play, from Natural Gas Weekly\n",
    "    \n",
    "    From https://www.eia.gov/naturalgas/weekly/img/shale_gas_202009.xlsx\n",
    "    (Or other URL with later date; change date in URL to download.)\n",
    "    (As of 2020-11-10, latest version was for 2020-09.)\n",
    "    \n",
    "    Units: bcf/day\n",
    "    \"\"\"\n",
    "    \n",
    "    eia_shale_by_play = pd.read_excel(inputs_path + eia_shale_by_play_file)\n",
    "    \n",
    "    return eia_shale_by_play"
   ]
  },
  {
   "cell_type": "markdown",
   "metadata": {},
   "source": [
    "## read files"
   ]
  },
  {
   "cell_type": "code",
   "execution_count": null,
   "metadata": {},
   "outputs": [],
   "source": [
    "(leak_fractions, ch4_shares_of_wet_gas) = read_leakage_rates_and_methane_share_parameters(parameters_excel)"
   ]
  },
  {
   "cell_type": "code",
   "execution_count": null,
   "metadata": {},
   "outputs": [],
   "source": [
    "# read EIA data\n",
    "# read in EIA data on US gross gas production\n",
    "# calculate value for contiguous US (total minus Alaska)\n",
    "# use for calculating share of contiguous US in documentation Table 1\n",
    "eia_gross_prod_excel = pd.ExcelFile(eia_path + eia_gross_prod_file)\n",
    "us_cont_gross_prod_bcf = read_eia_gross_production_contiguous_us(eia_gross_prod_excel)\n",
    "eia_gross_prod_all_yr_mmcf = compile_eia_gross_prod_all_states(eia_gross_prod_excel, data_year)\n",
    "\n",
    "eia_shale_by_play = read_eia_shale_gas_by_play(eia_shale_by_play_file)\n",
    "\n",
    "(dpr_counties, dpr_basin_prod_stats) = read_dpr_basin_prod_stats(dpr_file)\n",
    "\n",
    "(gas_dry_year_mmcf, gas_dry_year_mmbtu) = read_dry_gas_prod(dry_gas_prod_file)\n",
    "\n",
    "ngl_prod_bbl_year = read_ngl_prod(ngl_prod_file)\n",
    "\n",
    "oil_prod_bbl_year = read_oil_prod(oil_prod_file)\n",
    "oil_prod_cont_us = oil_prod_bbl_year.at['U.S.'] - oil_prod_bbl_year.at['Alaska']\n",
    "\n",
    "state_padd = read_state_padds(state_padd_file)\n",
    "ngls_padd_en_dens = calculate_padd_ngl_energy_density(ngl_en_dens_file, ngl_padd_file_template)"
   ]
  },
  {
   "cell_type": "code",
   "execution_count": null,
   "metadata": {},
   "outputs": [],
   "source": [
    "# read state data\n",
    "(pa_year, pa_unconv_year, pa_conv_year) = read_pennsylvania_state_data(\n",
    "    pa_unconv_year_file, pa_conv_year_file)\n",
    "wv_year = read_west_virginia_production_data()\n",
    "oh_year = read_ohio_production_data()\n",
    "colorado = read_colorado_production_data(colorado_file)\n",
    "new_mexico_year = read_new_mexico_production_data(new_mexico_file_template)\n",
    "wyoming = read_wyoming_production_data()\n",
    "texas = read_texas_production_data(texas_file)"
   ]
  },
  {
   "cell_type": "markdown",
   "metadata": {},
   "source": [
    "### end of read files"
   ]
  },
  {
   "cell_type": "code",
   "execution_count": null,
   "metadata": {},
   "outputs": [],
   "source": [
    "# initialize df\n",
    "leak_by_area = pd.DataFrame(columns = [\n",
    "    'state', \n",
    "    'region',\n",
    "    'gross gas production (Bcf)',\n",
    "    'leakage fraction',\n",
    "    'CH4 fraction in gross gas',\n",
    "    'CH4 leaked (Bcf)',\n",
    "    'CH4 leaked (tons)',\n",
    "])"
   ]
  },
  {
   "cell_type": "code",
   "execution_count": null,
   "metadata": {},
   "outputs": [],
   "source": [
    "# initialize df\n",
    "docs_table_3_1 = pd.DataFrame(columns = [\n",
    "    'Production area', 'Gross gas (Bcf)', 'cont US fract', 'methane leak fract'\n",
    "])"
   ]
  },
  {
   "cell_type": "markdown",
   "metadata": {},
   "source": [
    "## split energy between gas & other"
   ]
  },
  {
   "cell_type": "code",
   "execution_count": null,
   "metadata": {},
   "outputs": [],
   "source": [
    "(ngl_energy_density, ngl_prod_mmbtu_year) = calculate_ngl_energy(ngl_prod_bbl_year, ngls_padd_en_dens, state_padd)\n",
    "\n",
    "(table_en_fract, \n",
    " dry_gas_en_fract_of_dgno_by_state) = calculate_gas_fraction_of_energy_by_state(\n",
    "    gas_dry_year_mmcf,\n",
    "    gas_dry_year_mmbtu,\n",
    "    ngl_prod_bbl_year,\n",
    "    ngl_energy_density,\n",
    "    ngl_prod_mmbtu_year,\n",
    "    oil_prod_bbl_year,\n",
    "    oil_en_dens_mmbtu_per_bbl)"
   ]
  },
  {
   "cell_type": "markdown",
   "metadata": {},
   "source": [
    "## Calculate quantity of methane leaked by state\n",
    "* Take data on gross production (MMcf NG) by producing region/basin\n",
    "* Separate region/basin by state as needed\n",
    "* For each producing region/basin, apply the leakage rate from the literature to get quantity of NG leaked\n",
    "  * E.g., for TX portion of Permian, apply Permian leakage rate of 3.7%\n",
    "* Get value for methane fraction of NG\n",
    "  * E.g., gross gas produced in Permian is 80% methane (or whatever the value is from the literature)\n",
    "* Calculate volume of methane leaked (MMcf)\n",
    "* Convert to mass (Gg) and energy of methane leaked (MMBtu)\n",
    "* After doing for each region/basin with measured leakage rates, apply default values for remaining production\n",
    "  * Default for NG leakage rate: 2.3%?\n",
    "  * Default for methane fraction in gross NG production: 80%?\n",
    "* In the end, for each state, have quantities of methane leaked in terms of volume (MMcf), mass (Gg), and energy (MMBtu)"
   ]
  },
  {
   "cell_type": "markdown",
   "metadata": {},
   "source": [
    "## Calculate energy content of gas, oil, and NGLs by state\n",
    "* Take data on gross oil and gas/NGL production by state\n",
    "* Calculate energy content of each stream\n",
    "  * If the state distinguishes NGLs from gas, as WV does, calculate energy content of each\n",
    "    * gas: assume energy density of consumer-grade gas, because NGLs are already separated in the data (even though not separated in the hydrocarbon stream)\n",
    "    * NGL: apply conversion factor for energy density of NGLs produced in the region\n",
    "  * If the state doesn't distinguish NGLs from gas, have to estimate split between gas and NGLs\n",
    "    * EIA reports, by state, gross gas production, marketed gas production, and dry gas production \n",
    "    * EIA also reports NGL production (both in terms of bbl and gaseous equivalent, based on energy content)\n",
    "    * Thus can calculate the energy content of gross gas, dry gas (consumer-grade), and NGLs produced\n",
    "      * Should be that dry gas + NGLs ~= gross gas - reinjection\n",
    "      * If Prudhoe Bay oil field is representative, gross gas reinjected leads to negligible leakage\n",
    "    * And can calculate the share of energy from gas (excluding NGLs)\n",
    "* To calculate energy density of NGLs produced in the region:\n",
    "  * Use EIA data on NGL production volumes, separated by type of NGL (ethane, propane, etc.), for each PADD & sub-PADD\n",
    "  * Use EIA values for the energy density of each type of NGL (https://www.eia.gov/dnav/ng/ng_prod_sum_a_EPG0_VG9_mmcf_a.htm)\n",
    "  * Calculate total energy content of NGLs for each PADD & sub-PADD\n",
    "  * Calculate average energy density of NGLs for each PADD & sub-PADD (total energy / total volume)"
   ]
  },
  {
   "cell_type": "markdown",
   "metadata": {},
   "source": [
    "## Appalachia region"
   ]
  },
  {
   "cell_type": "code",
   "execution_count": null,
   "metadata": {},
   "outputs": [],
   "source": [
    "# read leakage rates for Appalachia sub-regions & calculate average for SW PA & WV\n",
    "pa_ne_leak_fract = leak_fractions.at['Appalachia region (northeast PA)']\n",
    "pa_sw_and_wv_leak_fract = leak_fractions.at['Appalachia region (southwest PA & northern WV)']"
   ]
  },
  {
   "cell_type": "code",
   "execution_count": null,
   "metadata": {},
   "outputs": [],
   "source": [
    "# assign leakage rate to PA SW\n",
    "pa_sw_leak_fract = pa_sw_and_wv_leak_fract\n",
    "\n",
    "# assume other PA production has intermediate leakage rate\n",
    "# this covers small remaining production, primarily in central and northwest PA\n",
    "# there are many older, conventional wells in these areas (as with SW PA)\n",
    "pa_other_leak_fract = pa_sw_and_wv_leak_fract"
   ]
  },
  {
   "cell_type": "code",
   "execution_count": null,
   "metadata": {},
   "outputs": [],
   "source": [
    "# Appalachia: get well-level production from PA, WV, & OH\n",
    "# assign production to Appalachia region, as defined by counties included in EIA DPR\n",
    "appalachia = dpr_counties.loc[dpr_counties['Region']=='Appalachia Region']\n",
    "appalachia_pa_counties = appalachia.loc[appalachia['State']=='PA']['County'].tolist()\n",
    "appalachia_wv_counties = appalachia.loc[appalachia['State']=='WV']['County'].tolist()\n",
    "appalachia_oh_counties = appalachia.loc[appalachia['State']=='OH']['County'].tolist()"
   ]
  },
  {
   "cell_type": "markdown",
   "metadata": {},
   "source": [
    "### Pennsylvania"
   ]
  },
  {
   "cell_type": "code",
   "execution_count": null,
   "metadata": {},
   "outputs": [],
   "source": [
    "pa_gross_gas_yr_mcf = pa_year['Gas Quantity (Mcf)'].sum()\n",
    "pa_gross_gas_yr_appal_mcf = pa_year.loc[pa_year['Well County'].isin(appalachia_pa_counties)]['Gas Quantity (Mcf)'].sum()\n",
    "pa_gross_gas_yr_nonappal_mcf = pa_year.loc[~pa_year['Well County'].isin(appalachia_pa_counties)]['Gas Quantity (Mcf)'].sum()\n",
    "\n",
    "print(f\"In Applachia counties (Bcf): {int(pa_gross_gas_yr_appal_mcf/1e6)}\")\n",
    "print(f\"Not in Appalachia counties (Bcf): {int(pa_gross_gas_yr_nonappal_mcf/1e6)}\")\n",
    "\n",
    "# Therefore PA Appalachia production is essentially the same as PA production (at least for gas)\n",
    "# Therefore, for \"other\" PA, include all remaining counties."
   ]
  },
  {
   "cell_type": "code",
   "execution_count": null,
   "metadata": {},
   "outputs": [],
   "source": [
    "# for PA counties within Appalachia region (DPR-defined),\n",
    "# calculate production in the northeast and southwest regions of the state\n",
    "# also calculate the remaining 'other' production in the state, within the Appalachia region\n",
    "pa_ne_counties = [\n",
    "    'BRADFORD', 'LYCOMING', 'SULLIVAN', 'SUSQUEHANNA', 'TIOGA', 'WYOMING',\n",
    "    'COLUMBIA', 'LACKAWANNA', 'LUZERNE', 'PIKE',  'WAYNE',\n",
    "]\n",
    "# note: for 2018, no gas or oil production in Columbia, Lackawanna, Luzerne, Pike, Wayne; not showing up in county sums\n",
    "pa_ne = pa_year.loc[pa_year['Well County'].isin(pa_ne_counties)]\n",
    "pa_ne_gross_gas_yr_mcf = pa_ne['Gas Quantity (Mcf)'].sum()\n",
    "\n",
    "pa_sw_counties = [\n",
    "    'ALLEGHENY', 'ARMSTRONG', 'BEAVER', 'BUTLER', 'CAMBRIA', 'FAYETTE',\n",
    "    'GREENE', 'INDIANA', 'SOMERSET', 'WASHINGTON', 'WESTMORELAND',\n",
    "]\n",
    "# note: all SW counties listed here had at least some gas production in 2018\n",
    "pa_sw = pa_year.loc[pa_year['Well County'].isin(pa_sw_counties)]\n",
    "pa_sw_gross_gas_yr_mcf = pa_sw['Gas Quantity (Mcf)'].sum()\n",
    "\n",
    "pa_other_gross_gas_yr_mcf = pa_gross_gas_yr_mcf - (pa_ne_gross_gas_yr_mcf + pa_sw_gross_gas_yr_mcf)"
   ]
  },
  {
   "cell_type": "code",
   "execution_count": null,
   "metadata": {},
   "outputs": [],
   "source": [
    "leak_by_area = calculate_production_leakage_allocated_to_gas_selected_region(\n",
    "    'Pennsylvania', 'Appalachia region - Pennsylvania northeast', \n",
    "    pa_ne_gross_gas_yr_mcf, pa_ne_leak_fract, \n",
    "    leak_by_area)\n",
    "\n",
    "leak_by_area = calculate_production_leakage_allocated_to_gas_selected_region(\n",
    "    'Pennsylvania', 'Appalachia region - Pennsylvania southwest', \n",
    "    pa_sw_gross_gas_yr_mcf, pa_sw_and_wv_leak_fract, \n",
    "    leak_by_area)\n",
    "\n",
    "leak_by_area = calculate_production_leakage_allocated_to_gas_selected_region(\n",
    "    'Pennsylvania', 'Appalachia region - Pennsylvania other', \n",
    "    pa_other_gross_gas_yr_mcf, pa_other_leak_fract, \n",
    "    leak_by_area)"
   ]
  },
  {
   "cell_type": "code",
   "execution_count": null,
   "metadata": {},
   "outputs": [],
   "source": [
    "# oil production\n",
    "pa_ne_oil_year = pa_ne[['Oil Quantity (Bbl)', 'Condensate Quantity (Bbl)']].sum().sum()\n",
    "pa_sw_oil_year = pa_sw[['Oil Quantity (Bbl)', 'Condensate Quantity (Bbl)']].sum().sum()\n",
    "pa_other_oil_year = pa_year[['Oil Quantity (Bbl)', 'Condensate Quantity (Bbl)']].sum().sum() - pa_ne_oil_year - pa_sw_oil_year\n",
    "\n",
    "oil_prod_year = pd.Series(dtype=float)\n",
    "oil_prod_year.at['Appalachia, PA NE'] = pa_ne_oil_year\n",
    "oil_prod_year.at['Appalachia, PA SW'] = pa_sw_oil_year\n",
    "oil_prod_year.at['Appalachia, PA other'] = pa_other_oil_year"
   ]
  },
  {
   "cell_type": "code",
   "execution_count": null,
   "metadata": {},
   "outputs": [],
   "source": [
    "# SHOWS AVERAGE, BUT NOT USED BELOW:\n",
    "# calculate total NG leakage for PA\n",
    "pa_leak_gross_gas_mcf = sum([\n",
    "    pa_ne_gross_gas_yr_mcf * pa_ne_leak_fract,\n",
    "    pa_sw_gross_gas_yr_mcf * pa_sw_and_wv_leak_fract,\n",
    "    pa_other_gross_gas_yr_mcf * pa_other_leak_fract\n",
    "])\n",
    "\n",
    "pa_leak_fract_avg = pa_leak_gross_gas_mcf / pa_gross_gas_yr_mcf\n",
    "print(f\"PA avg leak rate: {round(pa_leak_fract_avg*100, 2)}%\")"
   ]
  },
  {
   "cell_type": "markdown",
   "metadata": {},
   "source": [
    "### West Virginia"
   ]
  },
  {
   "cell_type": "code",
   "execution_count": null,
   "metadata": {},
   "outputs": [],
   "source": [
    "wv_gross_gas_yr_appal_mcf = wv_year.loc[wv_year['County'].str.upper().isin(appalachia_wv_counties)]['Total_Gas'].sum()\n",
    "wv_gross_gas_yr_nonappal_mcf = wv_year.loc[~wv_year['County'].str.upper().isin(appalachia_wv_counties)]['Total_Gas'].sum()\n",
    "print(f\"In Applachia counties (Bcf): {wv_gross_gas_yr_appal_mcf/1e6}\")\n",
    "print(f\"Not in Appalachia counties (Bcf): {wv_gross_gas_yr_nonappal_mcf/1e6}\")"
   ]
  },
  {
   "cell_type": "code",
   "execution_count": null,
   "metadata": {},
   "outputs": [],
   "source": [
    "wv_oil_yr_appal_bbl = wv_year.loc[wv_year['County'].str.upper().isin(appalachia_wv_counties)]['Total_Oil'].sum()\n",
    "wv_oil_yr_nonappal_bbl = wv_year.loc[~wv_year['County'].str.upper().isin(appalachia_wv_counties)]['Total_Oil'].sum()\n",
    "print(f\"In Applachia counties (million bbl): {wv_oil_yr_appal_bbl/1e6}\")\n",
    "print(f\"Not in Appalachia counties (million bbl): {wv_oil_yr_nonappal_bbl/1e6}\")"
   ]
  },
  {
   "cell_type": "code",
   "execution_count": null,
   "metadata": {},
   "outputs": [],
   "source": [
    "# note: all WV production (of oil, NGLs, and gas) is within Appalachia counties defined by EIA\n",
    "# so values for WV Appalachia are same as for whole state\n",
    "leak_by_area = calculate_production_leakage_allocated_to_gas_selected_region(\n",
    "    'West Virginia', 'Appalachia region - West Virginia', \n",
    "    wv_gross_gas_yr_appal_mcf, pa_sw_and_wv_leak_fract,\n",
    "    leak_by_area)"
   ]
  },
  {
   "cell_type": "code",
   "execution_count": null,
   "metadata": {},
   "outputs": [],
   "source": [
    "oil_prod_year.at['Appalachia, WV'] = wv_oil_yr_appal_bbl"
   ]
  },
  {
   "cell_type": "markdown",
   "metadata": {},
   "source": [
    "### Ohio"
   ]
  },
  {
   "cell_type": "code",
   "execution_count": null,
   "metadata": {},
   "outputs": [],
   "source": [
    "# gas units are Mcf, according to Ohio DNR page: \n",
    "# https://ohiodnr.gov/wps/portal/gov/odnr/business-and-industry/energy-resources/well-information/production\n",
    "oh_gross_gas_yr_appal_mcf = oh_year.loc[oh_year['COUNTY'].isin(appalachia_oh_counties)]['GAS'].sum()\n",
    "oh_gross_gas_yr_nonappal_mcf = oh_year.loc[~oh_year['COUNTY'].isin(appalachia_oh_counties)]['GAS'].sum()\n",
    "\n",
    "print(f\"In Appalachia counties (Bcf): {int(oh_gross_gas_yr_appal_mcf/1e6)}\")\n",
    "print(f\"Not in Appalachia counties (Bcf): {int(oh_gross_gas_yr_nonappal_mcf/1e6)}\")"
   ]
  },
  {
   "cell_type": "code",
   "execution_count": null,
   "metadata": {},
   "outputs": [],
   "source": [
    "# calculate oil production only for Appalachia counties\n",
    "oh_oil_yr_appal_bbl = oh_year.loc[oh_year['COUNTY'].isin(appalachia_oh_counties)]['OIL'].sum()\n",
    "oh_oil_yr_nonappal_bbl = oh_year.loc[~oh_year['COUNTY'].isin(appalachia_oh_counties)]['OIL'].sum()\n",
    "\n",
    "print(f\"In Appalachia counties (million bbl): {oh_oil_yr_appal_bbl/1e6}\")\n",
    "print(f\"Not in Appalachia counties (million bbl): {oh_oil_yr_nonappal_bbl/1e6}\")"
   ]
  },
  {
   "cell_type": "code",
   "execution_count": null,
   "metadata": {},
   "outputs": [],
   "source": [
    "# note: there is non-neglible OH oil production outside of Appalachia counties defined by EIA\n",
    "\n",
    "# calculate leaked volume of NG, \n",
    "# for OH, assign leakage rate for SW PA & WV from above\n",
    "# because both areas have more oil- and NGL-rich wells than NE PA,\n",
    "# and because OH, like SW PA & WV, has many older conventional wells\n",
    "oh_appal_leak_fract = pa_sw_and_wv_leak_fract\n",
    "\n",
    "leak_by_area = calculate_production_leakage_allocated_to_gas_selected_region(\n",
    "    'Ohio', 'Appalachia region - Ohio', \n",
    "    oh_gross_gas_yr_appal_mcf, oh_appal_leak_fract, \n",
    "    leak_by_area)"
   ]
  },
  {
   "cell_type": "code",
   "execution_count": null,
   "metadata": {},
   "outputs": [],
   "source": [
    "oil_prod_year.at['Appalachia, OH'] = oh_oil_yr_appal_bbl"
   ]
  },
  {
   "cell_type": "markdown",
   "metadata": {},
   "source": [
    "### put Appalachia results into docs table 1"
   ]
  },
  {
   "cell_type": "code",
   "execution_count": null,
   "metadata": {},
   "outputs": [],
   "source": [
    "docs_table_3_1 = fill_in_docs_table_3_1(\n",
    "    'Appalachia region (northeast PA)',\n",
    "    pa_ne_gross_gas_yr_mcf,\n",
    "    pa_ne_leak_fract,\n",
    "    docs_table_3_1\n",
    ")"
   ]
  },
  {
   "cell_type": "code",
   "execution_count": null,
   "metadata": {},
   "outputs": [],
   "source": [
    "app_remainder_gross_gas_mcf = sum([\n",
    "    pa_sw_gross_gas_yr_mcf,\n",
    "    pa_other_gross_gas_yr_mcf,\n",
    "    wv_gross_gas_yr_appal_mcf,\n",
    "    oh_gross_gas_yr_appal_mcf,\n",
    "])\n",
    "app_remainder_leak_gross_gas_mcf = sum([\n",
    "    pa_sw_gross_gas_yr_mcf * pa_sw_and_wv_leak_fract,\n",
    "    pa_other_gross_gas_yr_mcf * pa_other_leak_fract,\n",
    "    wv_gross_gas_yr_appal_mcf * pa_sw_and_wv_leak_fract,\n",
    "    oh_gross_gas_yr_appal_mcf * oh_appal_leak_fract,\n",
    "])\n",
    "\n",
    "app_remainder_leak_fract = app_remainder_leak_gross_gas_mcf / app_remainder_gross_gas_mcf\n",
    "\n",
    "docs_table_3_1 = fill_in_docs_table_3_1(\n",
    "    'Appalachia region (other)',\n",
    "    app_remainder_gross_gas_mcf,\n",
    "    app_remainder_leak_fract,\n",
    "    docs_table_3_1\n",
    ")"
   ]
  },
  {
   "cell_type": "markdown",
   "metadata": {},
   "source": [
    "#### For comparison, calculate Appalachia leakage: method #1 (regional leakage rates)"
   ]
  },
  {
   "cell_type": "code",
   "execution_count": null,
   "metadata": {},
   "outputs": [],
   "source": [
    "# calculate weighted avereage leakage rate - based on gross gas volumes\n",
    "app_leak_rate_weighted_avg = ((pa_ne_gross_gas_yr_mcf * pa_ne_leak_fract) + (app_remainder_gross_gas_mcf * app_remainder_leak_fract))/(pa_ne_gross_gas_yr_mcf + app_remainder_gross_gas_mcf)\n",
    "print(f\"app_leak_rate_weighted_avg: {round(100*app_leak_rate_weighted_avg, 2)}%\")"
   ]
  },
  {
   "cell_type": "code",
   "execution_count": null,
   "metadata": {},
   "outputs": [],
   "source": [
    "# calculate weighted avereage leakage rate - based on CH4 volumes\n",
    "app_ch4_leak_total = (pa_ne_gross_gas_yr_mcf * ch4_shares_of_wet_gas.at['Appalachia region - northeast Pennsylvania'] * pa_ne_leak_fract) + (app_remainder_gross_gas_mcf * ch4_shares_of_wet_gas.at['Appalachia region - outside northeast Pennsylvania'] * app_remainder_leak_fract)\n",
    "app_ch4_prod_total = (pa_ne_gross_gas_yr_mcf * ch4_shares_of_wet_gas.at['Appalachia region - northeast Pennsylvania']) + (app_remainder_gross_gas_mcf * ch4_shares_of_wet_gas.at['Appalachia region - outside northeast Pennsylvania'])\n",
    "print(f\"Applachia weighted average leakage rate (based on total CH4 leaked and total CH4 produced): {round(100*app_ch4_leak_total/app_ch4_prod_total, 2)}%\")"
   ]
  },
  {
   "cell_type": "markdown",
   "metadata": {},
   "source": [
    "### Estimate Barkley 2017 leakage rate for all gas wells (conv & unconv) "
   ]
  },
  {
   "cell_type": "code",
   "execution_count": null,
   "metadata": {},
   "outputs": [],
   "source": [
    "pa_ne_unconv_mcf = pa_unconv_year.loc[pa_unconv_year['Well County'].isin(pa_ne_counties)]['Gas Quantity (Mcf)'].sum()\n",
    "pa_ne_conv_mcf = pa_conv_year.loc[pa_conv_year['Well County'].isin(pa_ne_counties)]['Gas Quantity (Mcf)'].sum()"
   ]
  },
  {
   "cell_type": "code",
   "execution_count": null,
   "metadata": {},
   "outputs": [],
   "source": [
    "pa_ne_unconv_mcf/(pa_ne_unconv_mcf + pa_ne_conv_mcf)"
   ]
  },
  {
   "cell_type": "code",
   "execution_count": null,
   "metadata": {},
   "outputs": [],
   "source": [
    "pa_ne_unconv_leak_mcf = pa_ne_unconv_mcf * 0.36/100\n",
    "pa_ne_conv_leak_mcf = pa_ne_conv_mcf * 15/100\n",
    "print(pa_ne_unconv_leak_mcf, pa_ne_conv_leak_mcf)"
   ]
  },
  {
   "cell_type": "code",
   "execution_count": null,
   "metadata": {},
   "outputs": [],
   "source": [
    "(pa_ne_unconv_leak_mcf + pa_ne_conv_leak_mcf)/(pa_ne_unconv_mcf + pa_ne_conv_mcf)\n",
    "\n",
    "# Rounding to 2 significant digits, this is the same as the value reported in Barkley 2017\n",
    "# which fits with Barkley personal communication, that essentially all the leakage is from unconventional wells\n",
    "# (note that this is not the case when looking at PA as a whole, or Appalachia region as a whole)"
   ]
  },
  {
   "cell_type": "markdown",
   "metadata": {},
   "source": [
    "#### Calculate Appalachia leakage: method #2 (conventional vs unconventional leakage rates)"
   ]
  },
  {
   "cell_type": "code",
   "execution_count": null,
   "metadata": {},
   "outputs": [],
   "source": [
    "# pa_conv_year & pa_unconv_year already defined above; PA has separate data sheets for each\n",
    "pa_year_conv_mcf = pa_conv_year['Gas Quantity (Mcf)'].sum()\n",
    "pa_year_unconv_mcf = pa_unconv_year['Gas Quantity (Mcf)'].sum()\n",
    "\n",
    "pa_conv_well_count = len(pa_conv_year['Well Permit #'].unique())\n",
    "pa_unconv_well_count = len(pa_unconv_year['Well Permit #'].unique())"
   ]
  },
  {
   "cell_type": "code",
   "execution_count": null,
   "metadata": {},
   "outputs": [],
   "source": [
    "wv_year_conv_mcf = wv_year.loc[wv_year['Well Type'].isin(['VERT', 'COAL'])]['Total_Gas'].sum()\n",
    "wv_year_unconv_mcf = wv_year.loc[~wv_year['Well Type'].isin(['VERT', 'COAL'])]['Total_Gas'].sum()\n",
    "\n",
    "wv_conv_well_count = len(wv_year.loc[wv_year['Well Type'].isin(['VERT', 'COAL'])]['API'].unique())\n",
    "wv_unconv_well_count = len(wv_year.loc[~wv_year['Well Type'].isin(['VERT', 'COAL'])]['API'].unique())"
   ]
  },
  {
   "cell_type": "code",
   "execution_count": null,
   "metadata": {},
   "outputs": [],
   "source": [
    "# In Ohio data\n",
    "# unconventional wells report quarterly; they have 1, 2, 3, 4 entered in column 'QUARTER'\n",
    "# conventional wells report annually; they have 'N/A' entered in column 'QUARTER'\n",
    "oh_year_conv_mcf = oh_year.loc[oh_year['QUARTER'].isna()==True]['GAS'].sum()\n",
    "oh_year_unconv_mcf = oh_year.loc[oh_year['QUARTER'].isna()==False]['GAS'].sum()\n",
    "\n",
    "# # conv vs unconv:\n",
    "# print(oh_year_conv_mcf, oh_year_unconv_mcf, oh_year_conv_mcf/(oh_year_conv_mcf + oh_year_unconv_mcf))\n",
    "\n",
    "oh_conv_well_count = len(oh_year.loc[oh_year['QUARTER'].isna()==True]['WELL NAME'].unique())\n",
    "oh_unconv_well_count = len(oh_year.loc[oh_year['QUARTER'].isna()==False]['WELL NAME'].unique())"
   ]
  },
  {
   "cell_type": "code",
   "execution_count": null,
   "metadata": {},
   "outputs": [],
   "source": [
    "# Appalachia well counts\n",
    "conv_well_count = pa_conv_well_count + wv_conv_well_count + oh_conv_well_count\n",
    "unconv_well_count = pa_unconv_well_count + wv_unconv_well_count + oh_unconv_well_count\n",
    "unconv_well_count_fract = conv_well_count / (conv_well_count + unconv_well_count)\n",
    "print(f\"Appalachia wells: % that are unconventional: {round(100*unconv_well_count_fract, 1)}%\")"
   ]
  },
  {
   "cell_type": "code",
   "execution_count": null,
   "metadata": {},
   "outputs": [],
   "source": [
    "# calculate unconventional production for PA, WV, OH\n",
    "# leakage rates for unconventional wells only\n",
    "# Omara 2016: mean rate: 0.6% (GIM calculation)\n",
    "# Barkley 2017 (NE PA): mean rate: 0.36%\n",
    "# Barkley 2019 (SW PA & WV): mean rate: 0.5%; would be slightly lower if they had used mean rate from Omara 2016 for conventional wells\n",
    "# Omara 2018: ???\n",
    "# Caulton 2019: 0.53%\n",
    "pawvoh_unconv_leak_fract = 0.53/100 # aka 0.53%; based on Caulton 2019\n",
    "pawvoh_unconv_mcf = pa_year_unconv_mcf + wv_year_unconv_mcf + oh_year_unconv_mcf\n",
    "pawvoh_unconv_leak_mcf = pawvoh_unconv_mcf * pawvoh_unconv_leak_fract\n",
    "\n",
    "# calculate sum of conventional production for PA, WV, OH\n",
    "pawvoh_conv_leak_fract = 14.6/100 # aka 14.6%, mean rate calculated from OMARA 2016\n",
    "pawvoh_conv_mcf = pa_year_conv_mcf + wv_year_conv_mcf + oh_year_conv_mcf\n",
    "pawvoh_conv_leak_mcf = pawvoh_conv_mcf * pawvoh_conv_leak_fract\n",
    "\n",
    "# total production\n",
    "pawvoh_unconv_mcf = pa_year_unconv_mcf + wv_year_unconv_mcf + oh_year_unconv_mcf\n",
    "pawvoh_conv_mcf = pa_year_conv_mcf + wv_year_conv_mcf + oh_year_conv_mcf\n",
    "pawvoh_mcf = pawvoh_unconv_mcf + pawvoh_conv_mcf\n",
    "\n",
    "# total leakage\n",
    "pawvoh_leak_mcf = pawvoh_unconv_leak_mcf + pawvoh_conv_leak_mcf\n",
    "\n",
    "pawvoh_avg_leak_method2 = (pawvoh_unconv_leak_mcf + pawvoh_conv_leak_mcf)/pawvoh_mcf"
   ]
  },
  {
   "cell_type": "code",
   "execution_count": null,
   "metadata": {},
   "outputs": [],
   "source": [
    "print(f\"Appalachia average leakage rate (method #2): {round(pawvoh_avg_leak_method2*100, 2)}%\")"
   ]
  },
  {
   "cell_type": "code",
   "execution_count": null,
   "metadata": {},
   "outputs": [],
   "source": [
    "print(f\"percent of production from conventional wells: {round(100*pawvoh_conv_mcf/pawvoh_mcf, 2)}%\")\n",
    "print(f\"percent of leakage from conventional wells: {round(100*pawvoh_conv_leak_mcf/pawvoh_leak_mcf, 2)}%\")"
   ]
  },
  {
   "cell_type": "markdown",
   "metadata": {},
   "source": [
    "## Permian: Texas & New Mexico"
   ]
  },
  {
   "cell_type": "code",
   "execution_count": null,
   "metadata": {},
   "outputs": [],
   "source": [
    "# read leak rate from input file for production area leakage rates\n",
    "permian_leak_fract = leak_fractions.at['Permian region']"
   ]
  },
  {
   "cell_type": "code",
   "execution_count": null,
   "metadata": {},
   "outputs": [],
   "source": [
    "# Permian: get county-level data from TX & NM; calculate shares\n",
    "permian = dpr_counties.loc[dpr_counties['Region']=='Permian Region']\n",
    "permian_tx_counties = permian.loc[permian['State']=='TX']['County'].tolist()\n",
    "permian_nm_counties = permian.loc[permian['State']=='NM']['County'].tolist()"
   ]
  },
  {
   "cell_type": "code",
   "execution_count": null,
   "metadata": {},
   "outputs": [],
   "source": [
    "tx_permian_gross_gas_mcf = texas.loc[texas['County'].isin(permian_tx_counties)]['Gas total (Mcf)'].sum()\n",
    "\n",
    "leak_by_area = calculate_production_leakage_allocated_to_gas_selected_region(\n",
    "    'Texas', 'Permian region', \n",
    "    tx_permian_gross_gas_mcf, permian_leak_fract,\n",
    "    leak_by_area)"
   ]
  },
  {
   "cell_type": "code",
   "execution_count": null,
   "metadata": {},
   "outputs": [],
   "source": [
    "nm_permian_gross_gas_mcf = new_mexico_year.loc[\n",
    "    new_mexico_year['County'].str.upper().isin(permian_nm_counties)\n",
    "]['Produced Gas'].sum()\n",
    "\n",
    "leak_by_area = calculate_production_leakage_allocated_to_gas_selected_region(\n",
    "    'New Mexico', 'Permian region', \n",
    "    nm_permian_gross_gas_mcf, permian_leak_fract, \n",
    "    leak_by_area)"
   ]
  },
  {
   "cell_type": "code",
   "execution_count": null,
   "metadata": {},
   "outputs": [],
   "source": [
    "permian_gross_gas_mcf = tx_permian_gross_gas_mcf + nm_permian_gross_gas_mcf\n",
    "\n",
    "docs_table_3_1 = fill_in_docs_table_3_1(\n",
    "    'Permian region',\n",
    "    permian_gross_gas_mcf,\n",
    "    permian_leak_fract,\n",
    "    docs_table_3_1\n",
    ")"
   ]
  },
  {
   "cell_type": "code",
   "execution_count": null,
   "metadata": {},
   "outputs": [],
   "source": [
    "# calculate oil\n",
    "tx_permian_oil_bbl = texas.loc[\n",
    "    texas['County'].isin(permian_tx_counties)\n",
    "]['Oil total (bbl)'].sum()\n",
    "oil_prod_year.at['Permian, TX'] = tx_permian_oil_bbl\n",
    "\n",
    "nm_permian_oil_bbl = new_mexico_year.loc[\n",
    "    new_mexico_year['County'].str.upper().isin(permian_nm_counties)\n",
    "]['Produced Oil'].sum()\n",
    "oil_prod_year.at['Permian, NM'] = nm_permian_oil_bbl"
   ]
  },
  {
   "cell_type": "code",
   "execution_count": null,
   "metadata": {},
   "outputs": [],
   "source": [
    "# for comparison; results of this cell not used later\n",
    "permian_gross_gas_mcf = tx_permian_gross_gas_mcf + nm_permian_gross_gas_mcf\n",
    "permian_gross_gas_bcf = permian_gross_gas_mcf / 1e6\n",
    "permian_gross_gas_dpr = dpr_basin_prod_stats.at['Permian region', 'gas production Bcf/y']\n",
    "print(f\"Permian pct diff county data vs DPR: {round(100*((permian_gross_gas_dpr - permian_gross_gas_bcf)/permian_gross_gas_bcf), 1)}%\")\n",
    "\n",
    "permian_tx_fract = tx_permian_gross_gas_mcf / permian_gross_gas_mcf\n",
    "permian_nm_fract = nm_permian_gross_gas_mcf / permian_gross_gas_mcf\n",
    "\n",
    "print(f\"% of Permian from TX: {round(100*permian_tx_fract, 1)}%\")\n",
    "print(f\"% of Permian from NM: {round(100*permian_nm_fract, 1)}%\")"
   ]
  },
  {
   "cell_type": "markdown",
   "metadata": {},
   "source": [
    "### Haynesville region"
   ]
  },
  {
   "cell_type": "code",
   "execution_count": null,
   "metadata": {},
   "outputs": [],
   "source": [
    "# get Haynesville general data\n",
    "haynesville_leak_fract = leak_fractions.at['Haynesville region']\n",
    "haynesville_dpr_counties = dpr_counties.loc[dpr_counties['Region']=='Haynesville Region']"
   ]
  },
  {
   "cell_type": "code",
   "execution_count": null,
   "metadata": {},
   "outputs": [],
   "source": [
    "# Texas portion of Haynesville\n",
    "haynesville_tx_counties = haynesville_dpr_counties.loc[\n",
    "    haynesville_dpr_counties['State']=='TX']['County'].tolist()\n",
    "tx_haynes = texas.loc[texas['County'].isin(haynesville_tx_counties)]\n",
    "tx_haynes_gross_gas_mcf = tx_haynes['Gas total (Mcf)'].sum()\n",
    "\n",
    "leak_by_area = calculate_production_leakage_allocated_to_gas_selected_region(\n",
    "    'Texas', 'Haynesville region', \n",
    "    tx_haynes_gross_gas_mcf, haynesville_leak_fract, \n",
    "    leak_by_area)"
   ]
  },
  {
   "cell_type": "code",
   "execution_count": null,
   "metadata": {},
   "outputs": [],
   "source": [
    "# Arkansas portion of Haynesville\n",
    "haynesville_ar_counties = haynesville_dpr_counties.loc[\n",
    "    haynesville_dpr_counties['State']=='AR']['County'].tolist()\n",
    "\n",
    "county_ser = pd.Series(dtype=float)\n",
    "for county in haynesville_ar_counties:\n",
    "    county = county.title()    \n",
    "    arkansas_file_name = arkansas_file_name_template.replace(\n",
    "        'DATA_YEAR', str(data_year)).replace('COUNTY', county)\n",
    "    df = pd.read_excel(inputs_path + arkansas_file_name, header=1)\n",
    "    \n",
    "    if 'No data records available' in df.columns:\n",
    "        # no data\n",
    "        pass\n",
    "    else:\n",
    "        total = df.loc[df['Month']=='Total:']['Prod Total'].sum()\n",
    "        county_ser.at[county] = total\n",
    "\n",
    "ar_haynes_gross_gas_mcf = county_ser.sum()\n",
    "\n",
    "leak_by_area = calculate_production_leakage_allocated_to_gas_selected_region(\n",
    "    'Arkansas', 'Haynesville region', \n",
    "    ar_haynes_gross_gas_mcf, haynesville_leak_fract,\n",
    "    leak_by_area)"
   ]
  },
  {
   "cell_type": "code",
   "execution_count": null,
   "metadata": {},
   "outputs": [],
   "source": [
    "# Louisiana portion of Haynesville\n",
    "haynesville_la_counties = haynesville_dpr_counties.loc[\n",
    "    haynesville_dpr_counties['State']=='LA']['County'].tolist()\n",
    "\n",
    "la_data = pd.read_excel(inputs_path + la_file)\n",
    "la_haynes = la_data.loc[la_data['Parish'].isin(haynesville_la_counties)]\n",
    "la_haynes_gross_gas_mcf = la_haynes['Gas Total'].sum()\n",
    "\n",
    "leak_by_area = calculate_production_leakage_allocated_to_gas_selected_region(\n",
    "    'Louisiana', 'Haynesville region', \n",
    "    la_haynes_gross_gas_mcf, haynesville_leak_fract,\n",
    "    leak_by_area)"
   ]
  },
  {
   "cell_type": "code",
   "execution_count": null,
   "metadata": {},
   "outputs": [],
   "source": [
    "haynesville_gross_gas_mcf = sum([\n",
    "    la_haynes_gross_gas_mcf, \n",
    "    tx_haynes_gross_gas_mcf, \n",
    "    ar_haynes_gross_gas_mcf\n",
    "])\n",
    "docs_table_3_1 = fill_in_docs_table_3_1(\n",
    "    'Haynesville region',\n",
    "    haynesville_gross_gas_mcf,\n",
    "    haynesville_leak_fract,\n",
    "    docs_table_3_1\n",
    ")"
   ]
  },
  {
   "cell_type": "code",
   "execution_count": null,
   "metadata": {},
   "outputs": [],
   "source": [
    "# compare against EIA DPR\n",
    "haynesville_year_dpr_bcf = dpr_basin_prod_stats.at['Haynesville region', 'gas production Bcf/y']\n",
    "print(f\"Haynesville Bcf, EIA:    {int(haynesville_year_dpr_bcf)}\")\n",
    "print(f\"Haynesville Bcf, LA DNR: {int(haynesville_gross_gas_mcf/1e6)}\")"
   ]
  },
  {
   "cell_type": "code",
   "execution_count": null,
   "metadata": {},
   "outputs": [],
   "source": [
    "# for reference\n",
    "haynesville_la_fract = la_haynes_gross_gas_mcf / haynesville_gross_gas_mcf\n",
    "haynesville_tx_fract = tx_haynes_gross_gas_mcf / haynesville_gross_gas_mcf\n",
    "haynesville_ar_fract = ar_haynes_gross_gas_mcf / haynesville_gross_gas_mcf\n",
    "\n",
    "print(haynesville_la_fract, haynesville_tx_fract, haynesville_ar_fract)"
   ]
  },
  {
   "cell_type": "code",
   "execution_count": null,
   "metadata": {},
   "outputs": [],
   "source": [
    "oil_prod_year.at['Haynesville, LA'] = la_haynes['Oil Total'].sum()\n",
    "\n",
    "oil_prod_year.at['Haynesville, LA'] = tx_haynes['Oil total (bbl)'].sum()"
   ]
  },
  {
   "cell_type": "markdown",
   "metadata": {},
   "source": [
    "### Anadarko region"
   ]
  },
  {
   "cell_type": "code",
   "execution_count": null,
   "metadata": {},
   "outputs": [],
   "source": [
    "anadarko_leak_fract = leak_fractions.at['Anadarko region']"
   ]
  },
  {
   "cell_type": "code",
   "execution_count": null,
   "metadata": {},
   "outputs": [],
   "source": [
    "# Anadarko: get county-level data from TX; calculate share of DPR\n",
    "# assign percentages based on Texas data and DPR total\n",
    "# (couldn't find data from OK, other than well-level data, which Oklahoma Geological Survey warns may be incomplete)\n",
    "\n",
    "anadarko_dpr_counties = dpr_counties.loc[dpr_counties['Region']=='Anadarko Region']\n",
    "anadarko_tx_counties = anadarko_dpr_counties.loc[anadarko_dpr_counties['State']=='TX']['County'].tolist()\n",
    "\n",
    "tx_anadarko_gross_gas_mcf = texas.loc[texas['County'].isin(anadarko_tx_counties)]['Gas total (Mcf)'].sum()\n",
    "\n",
    "leak_by_area = calculate_production_leakage_allocated_to_gas_selected_region(\n",
    "    'Texas', 'Anadarko region', \n",
    "    tx_anadarko_gross_gas_mcf, anadarko_leak_fract, \n",
    "    leak_by_area)"
   ]
  },
  {
   "cell_type": "code",
   "execution_count": null,
   "metadata": {},
   "outputs": [],
   "source": [
    "# Don't have data directly from Oklahoma\n",
    "# infer from Texas state data and EIA DPR\n",
    "anadarko_gross_gas_bcf_dpr = dpr_basin_prod_stats.at['Anadarko region', 'gas production Bcf/y']\n",
    "tx_anadarko_gross_gas_bcf = tx_anadarko_gross_gas_mcf/1e6\n",
    "anadarko_tx_gas_fract = tx_anadarko_gross_gas_bcf / anadarko_gross_gas_bcf_dpr\n",
    "anadarko_ok_gas_fract = 1 - anadarko_tx_gas_fract\n",
    "\n",
    "ok_anadarko_gross_gas_mcf = anadarko_ok_gas_fract * dpr_basin_prod_stats.at['Anadarko region', 'gas production Bcf/y'] * 1e6\n",
    "\n",
    "leak_by_area = calculate_production_leakage_allocated_to_gas_selected_region(\n",
    "    'Oklahoma', 'Anadarko region', \n",
    "    ok_anadarko_gross_gas_mcf, anadarko_leak_fract, \n",
    "    leak_by_area)"
   ]
  },
  {
   "cell_type": "code",
   "execution_count": null,
   "metadata": {},
   "outputs": [],
   "source": [
    "anadarko_gross_gas_mcf = tx_anadarko_gross_gas_mcf + ok_anadarko_gross_gas_mcf\n",
    "\n",
    "docs_table_3_1 = fill_in_docs_table_3_1(\n",
    "    'Anadarko region',\n",
    "    anadarko_gross_gas_mcf,\n",
    "    anadarko_leak_fract,\n",
    "    docs_table_3_1\n",
    ")"
   ]
  },
  {
   "cell_type": "code",
   "execution_count": null,
   "metadata": {},
   "outputs": [],
   "source": [
    "print(anadarko_tx_gas_fract, anadarko_ok_gas_fract)"
   ]
  },
  {
   "cell_type": "code",
   "execution_count": null,
   "metadata": {},
   "outputs": [],
   "source": [
    "# calculate oil\n",
    "tx_anadarko_oil_bbl = texas.loc[\n",
    "    texas['County'].isin(anadarko_tx_counties)\n",
    "]['Oil total (bbl)'].sum()\n",
    "oil_prod_year.at['Anadarko, TX'] = tx_anadarko_oil_bbl\n",
    "\n",
    "# Don't have data directly from Oklahoma\n",
    "# infer from Texas state data and EIA DPR\n",
    "anadarko_oil_bbl_dpr = dpr_basin_prod_stats.at['Anadarko region', 'oil production bbl/y']\n",
    "anadarko_tx_oil_fract = tx_anadarko_oil_bbl / anadarko_oil_bbl_dpr\n",
    "anadarko_ok_oil_fract = 1 - anadarko_tx_oil_fract\n",
    "\n",
    "print(anadarko_tx_oil_fract, anadarko_ok_oil_fract )\n",
    "\n",
    "anadarko_ok_oil_bbl = anadarko_ok_oil_fract * dpr_basin_prod_stats.at['Anadarko region', 'oil production bbl/y']\n",
    "oil_prod_year.at['Anadarko, OK'] = anadarko_ok_oil_bbl"
   ]
  },
  {
   "cell_type": "markdown",
   "metadata": {},
   "source": [
    "### Eagle Ford"
   ]
  },
  {
   "cell_type": "code",
   "execution_count": null,
   "metadata": {},
   "outputs": [],
   "source": [
    "# split Eagle Ford into east and west\n",
    "# based on map in Peischl 2018 showing flight paths\n",
    "eagle_ford_west_dpr_counties = [\n",
    "    'DIMMIT', 'FRIO', 'LA SALLE', 'MAVERICK', 'WEBB', 'ZAVALA'\n",
    "]\n",
    "eagle_ford_east_dpr_counties = [\n",
    "    'ATASCOSA', 'LIVE OAK', 'MCMULLEN', \n",
    "    'BASTROP', 'BEE', 'BRAZOS', 'BURLESON', 'DEWITT', 'FAYETTE', 'GONZALES', \n",
    "    'KARNES', 'LAVACA', 'LEE', 'LEON', 'MADISON', 'MILAM', 'WILSON'\n",
    "]\n",
    "\n",
    "eagle_ford_west_leak_fract = leak_fractions.at['Eagle Ford region west']\n",
    "eagle_ford_west = texas.loc[texas['County'].isin(eagle_ford_west_dpr_counties)]\n",
    "eagle_ford_west_gross_gas_mcf = eagle_ford_west['Gas total (Mcf)'].sum()\n",
    "\n",
    "leak_by_area = calculate_production_leakage_allocated_to_gas_selected_region(\n",
    "    'Texas', 'Eagle Ford region west', \n",
    "    eagle_ford_west_gross_gas_mcf, eagle_ford_west_leak_fract, \n",
    "    leak_by_area)\n",
    "\n",
    "docs_table_3_1 = fill_in_docs_table_3_1(\n",
    "    'Eagle Ford region west',\n",
    "    eagle_ford_west_gross_gas_mcf, eagle_ford_west_leak_fract,\n",
    "    docs_table_3_1\n",
    ")\n",
    "\n",
    "eagle_ford_east_leak_fract = leak_fractions.at['Eagle Ford region east']\n",
    "eagle_ford_east = texas.loc[texas['County'].isin(eagle_ford_east_dpr_counties)]\n",
    "eagle_ford_east_gross_gas_mcf = eagle_ford_east['Gas total (Mcf)'].sum()\n",
    "\n",
    "leak_by_area = calculate_production_leakage_allocated_to_gas_selected_region(\n",
    "    'Texas', 'Eagle Ford region east', \n",
    "    eagle_ford_east_gross_gas_mcf, eagle_ford_east_leak_fract, \n",
    "    leak_by_area)\n",
    "\n",
    "docs_table_3_1 = fill_in_docs_table_3_1(\n",
    "    'Eagle Ford region east',\n",
    "    eagle_ford_east_gross_gas_mcf, eagle_ford_east_leak_fract,\n",
    "    docs_table_3_1\n",
    ")"
   ]
  },
  {
   "cell_type": "code",
   "execution_count": null,
   "metadata": {},
   "outputs": [],
   "source": [
    "print(f\"Eagle Ford west Bcf: {round(eagle_ford_west_gross_gas_mcf/1e6, 1)}\")\n",
    "print(f\"Eagle Ford east Bcf: {round(eagle_ford_east_gross_gas_mcf/1e6, 1)}\")"
   ]
  },
  {
   "cell_type": "code",
   "execution_count": null,
   "metadata": {},
   "outputs": [],
   "source": [
    "# comparison: get production from EIA DPR\n",
    "eagle_ford_gross_gas_mcf_dpr = dpr_basin_prod_stats.at['Eagle Ford region', 'gas production Bcf/y'] * 1e6\n",
    "\n",
    "# note: EIA DPR value for Eagle Ford gas is substantially higher (~10%) than state data (RRC)\n",
    "# the state state is for total gas (gas well gas + casinghead gas)\n",
    "# the same method for Permian found much closer agreement between RRC & DPR data\n",
    "# so it's unclear what the reason for the discrepancy would be; \n",
    "# seems unlikely to be significantly more late reporting in Eagle Ford than Permian\n",
    "txrrc_eagle_ford = eagle_ford_west_gross_gas_mcf + eagle_ford_east_gross_gas_mcf\n",
    "print(f\"Texas RRC: {int(txrrc_eagle_ford/1e6)} Bcf\")\n",
    "print(f\"EIA DPR:   {int(eagle_ford_gross_gas_mcf_dpr/1e6)} Bcf\")"
   ]
  },
  {
   "cell_type": "code",
   "execution_count": null,
   "metadata": {},
   "outputs": [],
   "source": [
    "# calculate oil production\n",
    "oil_prod_year.at['Eagle Ford west, TX'] = eagle_ford_west['Oil total (bbl)'].sum()\n",
    "oil_prod_year.at['Eagle Ford east, TX'] = eagle_ford_east['Oil total (bbl)'].sum()"
   ]
  },
  {
   "cell_type": "markdown",
   "metadata": {},
   "source": [
    "### Greater Green River basin\n",
    "(within EIA's Niobrara region)"
   ]
  },
  {
   "cell_type": "code",
   "execution_count": null,
   "metadata": {},
   "outputs": [],
   "source": [
    "# counties within basin based on USGS map:\n",
    "# USGS Southwestern Wyoming Province Assessment Team\n",
    "# Petroleum Systems and Geologic Assessment of Oil and Gas in the Southwestern Wyoming Province, Wyoming, Colorado, and Utah; Chapter 1\n",
    "# https://pubs.usgs.gov/dds/dds-069/dds-069-d/reports.html\n",
    "# & \n",
    "# The Greater Green River Basin\n",
    "# https://www.usgs.gov/media/images/greater-green-river-basin\n",
    "\n",
    "green_river_wy_counties = ['Lincoln', 'Sublette', 'Sweetwater', 'Uinta']\n",
    "green_river_wy = wyoming.loc[wyoming['Countyname'].str.title().isin(green_river_wy_counties)]\n",
    "green_river_wy_raw_gas_mcf = green_river_wy['gas (Mcf)'].sum()\n",
    "\n",
    "green_river_co_counties = ['Moffat', 'Routt']\n",
    "green_river_co = colorado.loc[colorado['County'].str.title().isin(green_river_co_counties)]\n",
    "green_river_co_raw_gas_mcf = green_river_co['Gas Production (MCF)'].sum()\n",
    "\n",
    "green_river_raw_gas_mcf = green_river_wy_raw_gas_mcf + green_river_co_raw_gas_mcf\n",
    "green_river_wy_fract = green_river_wy_raw_gas_mcf/green_river_raw_gas_mcf\n",
    "green_river_co_fract = green_river_co_raw_gas_mcf/green_river_raw_gas_mcf\n",
    "print(f\"Green River gas production: WY: {round(100*green_river_wy_fract, 1)}%, CO: {round(100*green_river_co_fract, 1)}%\")"
   ]
  },
  {
   "cell_type": "code",
   "execution_count": null,
   "metadata": {},
   "outputs": [],
   "source": [
    "greater_green_river_leakage_rate = leak_fractions.at['Greater Green River region']\n",
    "\n",
    "leak_by_area = calculate_production_leakage_allocated_to_gas_selected_region(\n",
    "    'Wyoming', 'Greater Green River region', \n",
    "    green_river_wy_raw_gas_mcf, greater_green_river_leakage_rate, \n",
    "    leak_by_area\n",
    ")\n",
    "leak_by_area = calculate_production_leakage_allocated_to_gas_selected_region(\n",
    "    'Colorado', 'Greater Green River region', \n",
    "    green_river_co_raw_gas_mcf, greater_green_river_leakage_rate, \n",
    "    leak_by_area\n",
    ")\n",
    "docs_table_3_1 = fill_in_docs_table_3_1(\n",
    "    'Greater Green River region',\n",
    "    green_river_raw_gas_mcf, greater_green_river_leakage_rate,\n",
    "    docs_table_3_1\n",
    ")"
   ]
  },
  {
   "cell_type": "code",
   "execution_count": null,
   "metadata": {},
   "outputs": [],
   "source": [
    "# calculate oil production\n",
    "oil_prod_year.at['Green River, WY'] = green_river_wy['oil (bbl)'].sum()\n",
    "oil_prod_year.at['Green River, CO'] = green_river_co['Oil Production (barrels)'].sum()"
   ]
  },
  {
   "cell_type": "markdown",
   "metadata": {},
   "source": [
    "### San Juan basin"
   ]
  },
  {
   "cell_type": "code",
   "execution_count": null,
   "metadata": {},
   "outputs": [],
   "source": [
    "# split between Colorado & New Mexico\n",
    "\n",
    "# based on \"The San Juan Basin, a Complex Giant Gas Field, New Mexico and Colorado,\"\n",
    "# James E. Fassett, Search and Discovery Article #10254 (2013)\n",
    "san_juan_nm_counties = ['McKinley', 'Rio Arriba', 'San Juan', 'Sandoval']\n",
    "san_juan_co_counties = ['Montezuma', 'La Plata', 'Archuleta']\n",
    "\n",
    "# make upper case\n",
    "san_juan_nm_counties = [x.upper() for x in san_juan_nm_counties]\n",
    "san_juan_co_counties = [x.upper() for x in san_juan_co_counties]\n",
    "\n",
    "san_juan_co = colorado.loc[colorado['County'].isin(san_juan_co_counties)]\n",
    "san_juan_co_raw_gas_mcf = san_juan_co['Gas Production (MCF)'].sum()\n",
    "\n",
    "san_juan_nm = new_mexico_year.loc[new_mexico_year['County'].str.upper().isin(san_juan_nm_counties)]\n",
    "san_juan_nm_raw_gas_mcf = san_juan_nm['Produced Gas'].sum()\n",
    "\n",
    "san_juan_gross_gas_mcf = san_juan_nm_raw_gas_mcf + san_juan_co_raw_gas_mcf\n",
    "\n",
    "san_juan_nm_fract = san_juan_nm_raw_gas_mcf / san_juan_gross_gas_mcf\n",
    "san_juan_co_fract = san_juan_co_raw_gas_mcf / san_juan_gross_gas_mcf\n",
    "\n",
    "print(f\"San Juan gas production: NM: {round(100*san_juan_nm_fract, 1)}%, CO: {round(100*san_juan_co_fract, 1)}%\")"
   ]
  },
  {
   "cell_type": "code",
   "execution_count": null,
   "metadata": {},
   "outputs": [],
   "source": [
    "san_juan_co_raw_gas_mcf, san_juan_nm_raw_gas_mcf"
   ]
  },
  {
   "cell_type": "code",
   "execution_count": null,
   "metadata": {},
   "outputs": [],
   "source": [
    "san_juan_leak_fract = leak_fractions.at['San Juan region']\n",
    "\n",
    "leak_by_area = calculate_production_leakage_allocated_to_gas_selected_region(\n",
    "    'New Mexico', 'San Juan region', \n",
    "    san_juan_nm_raw_gas_mcf, san_juan_leak_fract, \n",
    "    leak_by_area)\n",
    "\n",
    "leak_by_area = calculate_production_leakage_allocated_to_gas_selected_region(\n",
    "    'Colorado', 'San Juan region', \n",
    "    san_juan_co_raw_gas_mcf, san_juan_leak_fract, \n",
    "    leak_by_area)\n",
    "\n",
    "docs_table_3_1 = fill_in_docs_table_3_1(\n",
    "    'San Juan region',\n",
    "    san_juan_gross_gas_mcf,\n",
    "    san_juan_leak_fract,\n",
    "    docs_table_3_1\n",
    ")"
   ]
  },
  {
   "cell_type": "code",
   "execution_count": null,
   "metadata": {},
   "outputs": [],
   "source": [
    "# calculate oil production\n",
    "oil_prod_year.at['San Juan, NM'] = san_juan_nm['Produced Oil'].sum()\n",
    "oil_prod_year.at['San Juan, CO'] = san_juan_co['Oil Production (barrels)'].sum()"
   ]
  },
  {
   "cell_type": "markdown",
   "metadata": {},
   "source": [
    "### Barnett region"
   ]
  },
  {
   "cell_type": "code",
   "execution_count": null,
   "metadata": {},
   "outputs": [],
   "source": [
    "barnett_leak_fract = leak_fractions.at['Barnett region']\n",
    "\n",
    "# based on maps from Texas Commission on Environmental Quality\n",
    "# https://www.tceq.texas.gov/airquality/barnettshale/bshale-maps\n",
    "barnett_counties = [\n",
    "    'Montague', 'Cooke', 'Jack', 'Wise', 'Denton',\n",
    "    'Palo Pinto', 'Parker', 'Tarrant', 'Dallas', 'Erath',\n",
    "    'Hood', 'Somervell', 'Johnson', 'Ellis', 'Hill'\n",
    "]\n",
    "\n",
    "# get production from state data\n",
    "barnett_tx = texas.loc[texas['County'].str.title().isin(barnett_counties)]\n",
    "barnett_gross_gas_mcf = barnett_tx['Gas total (Mcf)'].sum()\n",
    "\n",
    "leak_by_area = calculate_production_leakage_allocated_to_gas_selected_region(\n",
    "    'Texas', 'Barnett region', \n",
    "    barnett_gross_gas_mcf, barnett_leak_fract, \n",
    "    leak_by_area)\n",
    "\n",
    "docs_table_3_1 = fill_in_docs_table_3_1(\n",
    "    'Barnett region',\n",
    "    barnett_gross_gas_mcf,\n",
    "    barnett_leak_fract,\n",
    "    docs_table_3_1\n",
    ")"
   ]
  },
  {
   "cell_type": "code",
   "execution_count": null,
   "metadata": {},
   "outputs": [],
   "source": [
    "# for comparison against EIA data for gas production by play\n",
    "# (but EIA's value from this sheet is dry gas production)\n",
    "barnett_dry_gas_yr_mcf_eia = get_annual_production_from_eia_shale_by_play('Barnett (TX)', data_year) * 1000\n",
    "\n",
    "barnett_gross_gas_mcf/1e6, barnett_dry_gas_yr_mcf_eia/1e6"
   ]
  },
  {
   "cell_type": "code",
   "execution_count": null,
   "metadata": {},
   "outputs": [],
   "source": [
    "oil_prod_year.at['Barnett, TX'] = barnett_tx['Oil total (bbl)'].sum()"
   ]
  },
  {
   "cell_type": "markdown",
   "metadata": {},
   "source": [
    "### Offshore GOM (state & federal)\n",
    "* split between Texas, Alabama, Louisiana, and federal\n",
    "* EIA data has units MMcf"
   ]
  },
  {
   "cell_type": "code",
   "execution_count": null,
   "metadata": {},
   "outputs": [],
   "source": [
    "# get production rates\n",
    "gom_fed_gross_gas_yr_mcf = eia_gross_prod_all_yr_mmcf.at['GOM (federal)'] * 1000\n",
    "gom_la_gross_gas_yr_mcf = eia_gross_prod_all_yr_mmcf.at['Louisiana--State Offshore'] * 1000\n",
    "gom_tx_gross_gas_yr_mcf = eia_gross_prod_all_yr_mmcf.at['Texas--State Offshore'] * 1000\n",
    "gom_al_gross_gas_yr_mcf = eia_gross_prod_all_yr_mmcf.at['Alabama--State Offshore'] * 1000\n",
    "\n",
    "gom_year_total_mcf = sum([\n",
    "    gom_fed_gross_gas_yr_mcf,\n",
    "    gom_la_gross_gas_yr_mcf,\n",
    "    gom_tx_gross_gas_yr_mcf,\n",
    "    gom_al_gross_gas_yr_mcf\n",
    "])"
   ]
  },
  {
   "cell_type": "code",
   "execution_count": null,
   "metadata": {},
   "outputs": [],
   "source": [
    "# show:\n",
    "# for state waters, fraction from Alabama:\n",
    "gom_al_gross_gas_yr_mcf/sum([gom_la_gross_gas_yr_mcf, gom_tx_gross_gas_yr_mcf, gom_al_gross_gas_yr_mcf])"
   ]
  },
  {
   "cell_type": "code",
   "execution_count": null,
   "metadata": {},
   "outputs": [],
   "source": [
    "# view:\n",
    "# shows nearly all the gas production is from federal waters\n",
    "gom_fed_fract = gom_fed_gross_gas_yr_mcf/gom_year_total_mcf\n",
    "gom_la_fract = gom_la_gross_gas_yr_mcf/gom_year_total_mcf\n",
    "gom_tx_fract = gom_tx_gross_gas_yr_mcf/gom_year_total_mcf\n",
    "gom_al_fract = gom_al_gross_gas_yr_mcf/gom_year_total_mcf\n",
    "\n",
    "print(round(gom_fed_fract, 3), \n",
    "      round(gom_la_fract, 3),\n",
    "      round(gom_tx_fract, 3),\n",
    "      round(gom_al_fract, 3))"
   ]
  },
  {
   "cell_type": "code",
   "execution_count": null,
   "metadata": {},
   "outputs": [],
   "source": [
    "gom_leak_fract = leak_fractions.at['Offshore Gulf of Mexico (state & federal waters)']\n",
    "\n",
    "# GOM federal waters\n",
    "leak_by_area = calculate_production_leakage_allocated_to_gas_selected_region(\n",
    "    'GOM (federal)', 'Offshore Gulf of Mexico', \n",
    "    gom_fed_gross_gas_yr_mcf, gom_leak_fract, \n",
    "    leak_by_area\n",
    ")\n",
    "# GOM Louisiana state waters\n",
    "leak_by_area = calculate_production_leakage_allocated_to_gas_selected_region(\n",
    "    'Louisiana', 'Offshore Gulf of Mexico', \n",
    "    gom_la_gross_gas_yr_mcf, gom_leak_fract, \n",
    "    leak_by_area\n",
    ")\n",
    "# GOM Texas state waters\n",
    "leak_by_area = calculate_production_leakage_allocated_to_gas_selected_region(\n",
    "    'Texas', 'Offshore Gulf of Mexico', \n",
    "    gom_tx_gross_gas_yr_mcf, gom_leak_fract, \n",
    "    leak_by_area\n",
    ")\n",
    "# GOM Alabama state waters\n",
    "leak_by_area = calculate_production_leakage_allocated_to_gas_selected_region(\n",
    "    'Alabama', 'Offshore Gulf of Mexico', \n",
    "    gom_al_gross_gas_yr_mcf, gom_leak_fract, \n",
    "    leak_by_area\n",
    ")"
   ]
  },
  {
   "cell_type": "code",
   "execution_count": null,
   "metadata": {},
   "outputs": [],
   "source": [
    "# for documentation, group all of GOM (state & federal) together\n",
    "docs_table_3_1 = fill_in_docs_table_3_1(\n",
    "    'Offshore Gulf of Mexico (state & federal)',\n",
    "    gom_year_total_mcf,\n",
    "    gom_leak_fract,\n",
    "    docs_table_3_1\n",
    ")"
   ]
  },
  {
   "cell_type": "code",
   "execution_count": null,
   "metadata": {},
   "outputs": [],
   "source": [
    "oil_prod_year.at['GOM federal waters'] = oil_prod_bbl_year.at['GOM (federal)']\n",
    "\n",
    "# estimate, assuming same proportion of oil is from state waters as the proportion of gas\n",
    "oil_prod_year.at['GOM state waters'] = (1-gom_fed_fract) * oil_prod_bbl_year.at['GOM (federal)']"
   ]
  },
  {
   "cell_type": "code",
   "execution_count": null,
   "metadata": {},
   "outputs": [],
   "source": [
    "# show fraction covered so far\n",
    "oil_prod_year.sum()/oil_prod_cont_us"
   ]
  },
  {
   "cell_type": "markdown",
   "metadata": {},
   "source": [
    "### Denver-Julesburg region\n",
    "(within Niobrara region defined by EIA DPR)"
   ]
  },
  {
   "cell_type": "code",
   "execution_count": null,
   "metadata": {},
   "outputs": [],
   "source": [
    "# Colorado production from counties within Denver-Julesburg basin\n",
    "\n",
    "# https://www.usgs.gov/centers/cersc/science/denver-basin-oil-and-gas-assessments\n",
    "dj_counties_co = [\n",
    "    'Weld', 'Yuma', 'Larimer', 'Adams', \n",
    "    'Arapahoe', 'Boulder', 'Washington', 'Phillips', 'Logan', \n",
    "    'Morgan', 'Kit Carson', 'Sedgwick', \n",
    "    'Jefferson', # no production?\n",
    "]\n",
    "\n",
    "# counties I thought might be part of DJ, but aren't in EIA's Niobrara region:\n",
    "# 'Denver', 'Lincoln', 'Elbert', 'El Paso', 'Douglas'\n",
    "\n",
    "# split between Colorado & Wyoming\n",
    "dj_co_raw_gas_mcf = colorado.loc[colorado['County'].str.title().isin(dj_counties_co)]['Gas Production (MCF)'].sum()\n",
    "dj_co_oil_bbl = colorado.loc[colorado['County'].str.title().isin(dj_counties_co)]['Oil Production (barrels)'].sum()\n",
    "\n",
    "# note: Denver-Julesburg production in Colorado is 57% of gas produced in EIA DPR's Niobrara region within Colorado production\n",
    "# EIA DPR's Niobrara Region also includes Colorado's Piceance basin"
   ]
  },
  {
   "cell_type": "code",
   "execution_count": null,
   "metadata": {},
   "outputs": [],
   "source": [
    "# Wyoming production from counties within Denver-Julesburg basin\n",
    "# note that Wyoming's share of production from this basin is ~10% of that of Colorado's share, both for oil & gas\n",
    "\n",
    "# https://www.usgs.gov/centers/cersc/science/denver-basin-oil-and-gas-assessments\n",
    "dj_counties_wy = [\n",
    "    'Platte', 'Goshen', 'Laramie',\n",
    "    'Albany', 'Carbon',\n",
    "]\n",
    "\n",
    "dj_wy_gross_gas_mcf = wyoming.loc[wyoming['Countyname'].str.title().isin(dj_counties_wy)]['gas (Mcf)'].sum()\n",
    "dj_wy_oil_bbl = wyoming.loc[wyoming['Countyname'].str.title().isin(dj_counties_wy)]['oil (bbl)'].sum()"
   ]
  },
  {
   "cell_type": "code",
   "execution_count": null,
   "metadata": {},
   "outputs": [],
   "source": [
    "wyoming['gas (Mcf)'].sum()"
   ]
  },
  {
   "cell_type": "code",
   "execution_count": null,
   "metadata": {},
   "outputs": [],
   "source": [
    "# from Nebraska Energy Office, \"Natural Gas Production by County in Nebraska\"\n",
    "# https://neo.ne.gov/programs/stats/inf/31.html\n",
    "# all of Nebraska's gas production is within Denver-Julesburg basin\n",
    "# however, it is small relative to production from CO & WY\n",
    "dj_ne_gas_mcf_2016 = 526420\n",
    "\n",
    "print(f\"Percent of DJ gas from Nebraska (approx.): {round(100*dj_ne_gas_mcf_2016/(dj_ne_gas_mcf_2016 + dj_co_raw_gas_mcf + dj_wy_gross_gas_mcf),2)}%\")"
   ]
  },
  {
   "cell_type": "code",
   "execution_count": null,
   "metadata": {},
   "outputs": [],
   "source": [
    "# given that the production is so small, and that there isn't recent data (latest year is 2016), \n",
    "# then GIM excludes the Nebraska part of DJ\n",
    "# that production would fall into the category of miscellaneous production assigned the default leakage rate"
   ]
  },
  {
   "cell_type": "code",
   "execution_count": null,
   "metadata": {},
   "outputs": [],
   "source": [
    "# dj_total_gas_mcf = dj_co_gas_mcf + dj_wy_gas_mcf\n",
    "# dj_total_gas_boe = dj_co_gas_boe + dj_wy_gas_boe\n",
    "# dj_total_oil_bbl = dj_co_oil_bbl + dj_wy_oil_bbl\n",
    "\n",
    "# dj_total_gas_fract = dj_total_gas_boe/(dj_total_gas_boe + dj_total_oil_bbl)"
   ]
  },
  {
   "cell_type": "code",
   "execution_count": null,
   "metadata": {},
   "outputs": [],
   "source": [
    "# gim_region_prod_stats.at['Denver-Julesburg basin', 'gas production Bcf/y'] = dj_total_gas_mcf/1e6\n",
    "# gim_region_prod_stats.at['Denver-Julesburg basin', 'gas fract of energy'] = dj_total_gas_fract"
   ]
  },
  {
   "cell_type": "code",
   "execution_count": null,
   "metadata": {},
   "outputs": [],
   "source": [
    "dj_leak_fract = leak_fractions.at['Denver-Julesburg region']\n",
    "dj_gross_gas_mcf = dj_co_raw_gas_mcf + dj_wy_gross_gas_mcf\n",
    "\n",
    "leak_by_area = calculate_production_leakage_allocated_to_gas_selected_region(\n",
    "    'Colorado', 'Denver-Julesburg region', \n",
    "    dj_co_raw_gas_mcf, dj_leak_fract, \n",
    "    leak_by_area)\n",
    "\n",
    "leak_by_area = calculate_production_leakage_allocated_to_gas_selected_region(\n",
    "    'Wyoming', 'Denver-Julesburg region', \n",
    "    dj_wy_gross_gas_mcf, dj_leak_fract, \n",
    "    leak_by_area)\n",
    "\n",
    "docs_table_3_1 = fill_in_docs_table_3_1(\n",
    "    'Denver-Julesburg region',\n",
    "    dj_gross_gas_mcf,\n",
    "    dj_leak_fract,\n",
    "    docs_table_3_1\n",
    ")"
   ]
  },
  {
   "cell_type": "code",
   "execution_count": null,
   "metadata": {},
   "outputs": [],
   "source": [
    "oil_prod_year.at['Denver-Julesburg, CO'] = dj_co_oil_bbl\n",
    "oil_prod_year.at['Denver-Julesburg, WY'] = dj_wy_oil_bbl\n",
    "# assume Nebraska's DJ oil production is negligible\n",
    "print(f\"billion bbl oil/y added so far to oil_prod_year: {round(oil_prod_year.sum()/1e9, 2)}\")"
   ]
  },
  {
   "cell_type": "code",
   "execution_count": null,
   "metadata": {},
   "outputs": [],
   "source": [
    "# show fraction covered so far\n",
    "oil_prod_year.sum()/oil_prod_cont_us"
   ]
  },
  {
   "cell_type": "markdown",
   "metadata": {},
   "source": [
    "### Bakken region"
   ]
  },
  {
   "cell_type": "code",
   "execution_count": null,
   "metadata": {},
   "outputs": [],
   "source": [
    "# split between North Dakota and Montana\n",
    "\n",
    "# North Dakota Department of Mineral Resources data page:\n",
    "# https://www.dmr.nd.gov/oilgas/stats/statisticsvw.asp\n",
    "# downloaded \"Monthly gas production totals by county\" (pdf); units are Mcf\n",
    "# notes that confidental wells are excluded; may be an issue for data < 1 year old\n",
    "# extracted data using Tabula\n",
    "\n",
    "bakken = dpr_counties.loc[dpr_counties['Region']=='Bakken Region']\n",
    "bakken_nd_counties = bakken.loc[bakken['State']=='ND']['County'].tolist()\n",
    "bakken_mt_counties = bakken.loc[bakken['State']=='MT']['County'].tolist()\n",
    "\n",
    "df = pd.read_excel(inputs_path + nd_gas_file)\n",
    "df['year'] = df['Date'].dt.year\n",
    "df = df.set_index('year')\n",
    "df = df.drop('Date', axis=1)\n",
    "df = df.groupby(df.index).sum()\n",
    "ser = df.loc[data_year]\n",
    "ser.index.name = 'County'\n",
    "north_dakota_year = pd.DataFrame(ser).reset_index().rename(columns={data_year: 'gas Mcf'})\n",
    "bakken_nd = north_dakota_year.loc[north_dakota_year['County'].str.upper().isin(bakken_nd_counties)]\n",
    "bakken_nd_gross_gas_mcf = bakken_nd['gas Mcf'].sum()"
   ]
  },
  {
   "cell_type": "code",
   "execution_count": null,
   "metadata": {},
   "outputs": [],
   "source": [
    "bakken_nd_gross_gas_mcf"
   ]
  },
  {
   "cell_type": "code",
   "execution_count": null,
   "metadata": {},
   "outputs": [],
   "source": [
    "df = pd.read_excel(inputs_path + nd_oil_file)\n",
    "df['year'] = df['Date'].dt.year\n",
    "df = df.set_index('year')\n",
    "df = df.drop('Date', axis=1)\n",
    "df = df.groupby(df.index).sum()\n",
    "ser = df.loc[data_year]\n",
    "ser.index.name = 'County'\n",
    "north_dakota_year = pd.DataFrame(ser).reset_index().rename(columns={data_year: 'oil bbl'})\n",
    "bakken_nd = north_dakota_year.loc[north_dakota_year['County'].str.upper().isin(bakken_nd_counties)]\n",
    "bakken_nd_oil_bbl = bakken_nd['oil bbl'].sum()"
   ]
  },
  {
   "cell_type": "code",
   "execution_count": null,
   "metadata": {},
   "outputs": [],
   "source": [
    "# Montana Board of Oil & Gas Conservation\n",
    "# Annual Production by County\n",
    "# http://www.bogc.dnrc.mt.gov/WebApps/DataMiner/Production/ProdAnnualCounty.aspx\n",
    "# downloaded only the counties listed by EIA DPR as being within Bakken region\n",
    "# (Dawson, McCone, Richland, Roosevelt, Sheridan)\n",
    "\n",
    "montana_bakken = pd.read_excel(inputs_path + montana_bakken_file)\n",
    "montana_bakken_year = montana_bakken.copy().loc[montana_bakken['Year']==data_year]\n",
    "montana_bakken_year['Total Gas'] = montana_bakken_year[['Nat. Gas', 'Assoc. Gas']].sum(axis=1)\n",
    "bakken_mt_gross_gas_mcf = montana_bakken_year['Total Gas'].sum()\n",
    "bakken_mt_oil_bbl = montana_bakken_year['Oil'].sum()"
   ]
  },
  {
   "cell_type": "code",
   "execution_count": null,
   "metadata": {},
   "outputs": [],
   "source": [
    "bakken_gross_gas_mcf = bakken_nd_gross_gas_mcf + bakken_mt_gross_gas_mcf\n",
    "bakken_gross_gas_bcf = bakken_gross_gas_mcf/1e6\n",
    "bakken_year_dpr = dpr_basin_prod_stats.at['Bakken region', 'gas production Bcf/y']\n",
    "print(f\"Bakken production state data: {round(bakken_gross_gas_bcf, 1)} Bcf/y\")\n",
    "print(f\"Bakken production EIA DPR:    {round(bakken_year_dpr, 1)} Bcf/y\")"
   ]
  },
  {
   "cell_type": "code",
   "execution_count": null,
   "metadata": {},
   "outputs": [],
   "source": [
    "bakken_nd_fract = bakken_nd_gross_gas_mcf/bakken_gross_gas_mcf\n",
    "bakken_mt_fract = bakken_mt_gross_gas_mcf/bakken_gross_gas_mcf\n",
    "print(bakken_nd_fract)\n",
    "print(bakken_mt_fract)"
   ]
  },
  {
   "cell_type": "code",
   "execution_count": null,
   "metadata": {},
   "outputs": [],
   "source": [
    "bakken_leak_fract = leak_fractions.at['Bakken region']\n",
    "\n",
    "leak_by_area = calculate_production_leakage_allocated_to_gas_selected_region(\n",
    "    'North Dakota', 'Bakken region', \n",
    "    bakken_nd_gross_gas_mcf, bakken_leak_fract, \n",
    "    leak_by_area)\n",
    "\n",
    "leak_by_area = calculate_production_leakage_allocated_to_gas_selected_region(\n",
    "    'Montana', 'Bakken region', \n",
    "    bakken_mt_gross_gas_mcf, bakken_leak_fract, \n",
    "    leak_by_area)\n",
    "\n",
    "docs_table_3_1 = fill_in_docs_table_3_1(\n",
    "    'Bakken region',\n",
    "    bakken_gross_gas_mcf,\n",
    "    bakken_leak_fract,\n",
    "    docs_table_3_1\n",
    ")"
   ]
  },
  {
   "cell_type": "code",
   "execution_count": null,
   "metadata": {},
   "outputs": [],
   "source": [
    "oil_prod_year.at['Bakken, ND'] = bakken_nd_oil_bbl\n",
    "oil_prod_year.at['Bakken, MT'] = bakken_mt_oil_bbl\n",
    "print(f\"billion bbl oil/y added so far to oil_prod_year: {round(oil_prod_year.sum()/1e9, 2)}\")"
   ]
  },
  {
   "cell_type": "code",
   "execution_count": null,
   "metadata": {},
   "outputs": [],
   "source": [
    "# show fraction covered so far\n",
    "oil_prod_year.sum()/oil_prod_cont_us"
   ]
  },
  {
   "cell_type": "markdown",
   "metadata": {},
   "source": [
    "## Fayetteville"
   ]
  },
  {
   "cell_type": "code",
   "execution_count": null,
   "metadata": {},
   "outputs": [],
   "source": [
    "# based on Gulen 2014; only a very small number of wells outside of these counties, on the margins of the play\n",
    "fayetteville_counties = [\n",
    "    'Van Buren', 'Cleburne', 'Independence',\n",
    "    'Conway', 'Faulkner', 'White'\n",
    "]\n",
    "\n",
    "# data on gross gas production from Arkansas Oil and Gas Commission; monthly data by county\n",
    "# http://www.aogc.state.ar.us/data/monthly.aspx\n",
    "county_ser = pd.Series(dtype=float)\n",
    "for county in fayetteville_counties:\n",
    "    arkansas_file_name = arkansas_file_name_template.replace(\n",
    "        'DATA_YEAR', str(data_year)).replace('COUNTY', county)\n",
    "    df = pd.read_excel(inputs_path + arkansas_file_name, header=1)\n",
    "    \n",
    "    if 'No data records available' in df.columns:\n",
    "        print(f\"No gas production for {county} County\")\n",
    "        pass\n",
    "    else:\n",
    "        total = df.loc[df['Month']=='Total:']['Prod Total'].sum()\n",
    "        county_ser.at[county] = total\n",
    "\n",
    "fayetteville_gross_gas_mcf = county_ser.sum()\n",
    "\n",
    "fayetteville_leak_fract = leak_fractions.at['Fayetteville region']\n",
    "\n",
    "leak_by_area = calculate_production_leakage_allocated_to_gas_selected_region(\n",
    "    'Arkansas', 'Fayetteville region', \n",
    "    fayetteville_gross_gas_mcf, fayetteville_leak_fract, \n",
    "    leak_by_area)\n",
    "\n",
    "docs_table_3_1 = fill_in_docs_table_3_1(\n",
    "    'Fayetteville region',\n",
    "    fayetteville_gross_gas_mcf,\n",
    "    fayetteville_leak_fract,\n",
    "    docs_table_3_1\n",
    ")"
   ]
  },
  {
   "cell_type": "code",
   "execution_count": null,
   "metadata": {},
   "outputs": [],
   "source": [
    "# for comparison:\n",
    "fayetteville_dry_gas_year_mcf_eia = get_annual_production_from_eia_shale_by_play('Fayetteville (AR)', data_year) * 1000\n",
    "\n",
    "print(f\"EIA dry gas: {int(fayetteville_dry_gas_year_mcf_eia/1e6)}\")\n",
    "print(f\"AOGC gross gas: {int(fayetteville_gross_gas_mcf/1e6)}\")"
   ]
  },
  {
   "cell_type": "markdown",
   "metadata": {},
   "source": [
    "## Uintah basin"
   ]
  },
  {
   "cell_type": "code",
   "execution_count": null,
   "metadata": {},
   "outputs": [],
   "source": [
    "# based on Utah Geological Survey map:\n",
    "# https://geology.utah.gov/map-pub/survey-notes/uinta-basin-produced-water/\n",
    "# count production in Uintah County and Duchnese County\n",
    "# within the basin, only small, scattered gas fields in Grand County and Carbon County\n",
    "# but those counties have other gas fields outside the boundary of Uintah basin\n",
    "# since Uintah leakage rate is higher than US average, conservative approach for leakage is to draw boundaries more tightly\n",
    "uintah_basin_counties = ['UINTAH', 'DUCHESNE']\n",
    "\n",
    "# Utah oil & gas production from Department of Natural Resources\n",
    "# online oil & gas information: https://oilgas.ogm.utah.gov/oilgasweb/live-data-search/lds-main.xhtml\n",
    "# annual data by county: https://oilgas.ogm.utah.gov/oilgasweb/live-data-search/lds-prod/prod-by-cnty-lu.xhtml\n",
    "\n",
    "# in Uintah basin, also also two small gas fields in Carbon County; \n",
    "# https://www.shaleexperts.com/plays/uinta-basin/Overview\n",
    "# gas production (Mcf):\n",
    "# from annual data by field: https://oilgas.ogm.utah.gov/oilgasweb/live-data-search/lds-prod/prod-by-fld-lu.xhtml\n",
    "# In 2018, those were < 5% of the production in Uintah & Duchnese counties\n",
    "\n",
    "utah_by_county = pd.read_csv(inputs_path + utah_by_county_file)\n",
    "utah_by_county = utah_by_county.set_index('County')\n",
    "\n",
    "utah_by_county_year = utah_by_county.loc[utah_by_county['Year']==data_year]\n",
    "\n",
    "uintah_ut = utah_by_county_year.loc[utah_by_county_year.index.isin(uintah_basin_counties)]\n",
    "uintah_year_gross_gas_mcf = uintah_ut['Natural Gas (MCF)'].sum()\n",
    "uintah_year_oil_bbl = uintah_ut['Oil (BBLs)'].sum()"
   ]
  },
  {
   "cell_type": "code",
   "execution_count": null,
   "metadata": {},
   "outputs": [],
   "source": [
    "# uintah_year_oil_mmbtu = uintah_year_oil_bbl * oil_en_dens_mmbtu_per_bbl\n",
    "# uintah_year_oil_mmbtu / (uintah_year_gross_gas_mmbtu_approx + uintah_year_oil_mmbtu)"
   ]
  },
  {
   "cell_type": "code",
   "execution_count": null,
   "metadata": {},
   "outputs": [],
   "source": [
    "uintah_leak_fract = leak_fractions.at['Uintah region']\n",
    "\n",
    "leak_by_area = calculate_production_leakage_allocated_to_gas_selected_region(\n",
    "    'Utah', 'Uintah region', \n",
    "    uintah_year_gross_gas_mcf, uintah_leak_fract, \n",
    "    leak_by_area)\n",
    "\n",
    "docs_table_3_1 = fill_in_docs_table_3_1(\n",
    "    'Uintah region',\n",
    "    uintah_year_gross_gas_mcf,\n",
    "    uintah_leak_fract,\n",
    "    docs_table_3_1\n",
    ")"
   ]
  },
  {
   "cell_type": "code",
   "execution_count": null,
   "metadata": {},
   "outputs": [],
   "source": [
    "oil_prod_year.at['Uintah, UT'] = uintah_year_oil_bbl"
   ]
  },
  {
   "cell_type": "code",
   "execution_count": null,
   "metadata": {},
   "outputs": [],
   "source": [
    "# show oil fraction covered so far\n",
    "oil_prod_year.sum()/oil_prod_cont_us"
   ]
  },
  {
   "cell_type": "markdown",
   "metadata": {},
   "source": [
    "## San Joaquin Valley (California)"
   ]
  },
  {
   "cell_type": "code",
   "execution_count": null,
   "metadata": {},
   "outputs": [],
   "source": [
    "# California Department of Conservation:\n",
    "# Annual Reports of the State Supervisor of Oil and Gas\n",
    "# https://www.conservation.ca.gov/calgem/pubs_stats/annual_reports/Pages/annual_reports.aspx\n",
    "\n",
    "# Includes oil, gas, water production by county\n",
    "# for 2018, report states gross production\n",
    "# 2017 report stated net production\n",
    "# 2019 report covering 2014-2018 also states 2018 as gross and previous years as net\n",
    "# so there was apparently a change in reporting"
   ]
  },
  {
   "cell_type": "code",
   "execution_count": null,
   "metadata": {},
   "outputs": [],
   "source": [
    "if data_year in [2018, 2019]:\n",
    "    ca_by_county = pd.read_excel(\n",
    "        inputs_path + ca_by_county_file, sheet_name=f\"{data_year} data\")\n",
    "    \n",
    "    # clean data\n",
    "    ca_by_county['County'] = ca_by_county['County'].str.strip()\n",
    "    \n",
    "else:\n",
    "    print(\"ERROR!\" + f\" Data year {data_year} not covered in California data by county here.\")\n",
    "    print(\"Check website for new data: https://www.conservation.ca.gov/calgem/pubs_stats/annual_reports/Pages/annual_reports.aspx\")"
   ]
  },
  {
   "cell_type": "code",
   "execution_count": null,
   "metadata": {},
   "outputs": [],
   "source": [
    "sjv_counties = ['Kern', 'San Joaquin', 'Fresno', 'Madera', 'Kings', 'Merced', 'Stanislaus', 'Tulare']\n",
    "sjv_data = ca_by_county.loc[ca_by_county['County'].isin(sjv_counties)]\n",
    "sjv_prod_gas_mcf = sjv_data['Total gross gas production (Mcf)'].sum()\n",
    "sjv_prod_oil_bbl = sjv_data['Oil & condensate produced (bbl)'].sum()"
   ]
  },
  {
   "cell_type": "code",
   "execution_count": null,
   "metadata": {},
   "outputs": [],
   "source": [
    "sjv_leakage_rate = leak_fractions.at['San Joaquin Valley']\n",
    "\n",
    "leak_by_area = calculate_production_leakage_allocated_to_gas_selected_region(\n",
    "    'California', 'San Joaquin Valley',\n",
    "    sjv_prod_gas_mcf, sjv_leakage_rate, \n",
    "    leak_by_area\n",
    ")\n",
    "docs_table_3_1 = fill_in_docs_table_3_1(\n",
    "    'San Joaquin Valley',\n",
    "    sjv_prod_gas_mcf, sjv_leakage_rate, \n",
    "    docs_table_3_1\n",
    ")"
   ]
  },
  {
   "cell_type": "code",
   "execution_count": null,
   "metadata": {},
   "outputs": [],
   "source": [
    "if data_year == 2018 or data_year == 2019:\n",
    "    oil_prod_year.at['San Joaquin Valley, CA'] = sjv_prod_oil_bbl\n",
    "else:\n",
    "    print(\"ERROR!\" + f\" Don't have SJV production rate entered yet for {data_year}.\")"
   ]
  },
  {
   "cell_type": "markdown",
   "metadata": {},
   "source": [
    "## Average leakage & summary statistics"
   ]
  },
  {
   "cell_type": "code",
   "execution_count": null,
   "metadata": {},
   "outputs": [],
   "source": [
    "def calculate_weighted_average_leak_fract_gross(leak_by_area):\n",
    "    \"\"\"\n",
    "    For all production areas with methane leakage rate measurements,\n",
    "    calculate the quantity of gross gas leaked, \n",
    "    divide by the sum of gross gas production.\n",
    "    \n",
    "    This provides a weighted average percentage leakage rate (or leak fraction).\n",
    "    \"\"\"\n",
    "    df = leak_by_area.copy()\n",
    "    gross_gas_leaked = df[['gross gas production (Bcf)', 'leakage fraction']].product(axis=1)\n",
    "    weighted_average_leak_fract = gross_gas_leaked.sum()/df['gross gas production (Bcf)'].sum()\n",
    "    print(f\"Average leakage rate: {round(100*weighted_average_leak_fract, 3)}%\")\n",
    "    \n",
    "    return weighted_average_leak_fract"
   ]
  },
  {
   "cell_type": "code",
   "execution_count": null,
   "metadata": {},
   "outputs": [],
   "source": [
    "weighted_average_leak_fract = calculate_weighted_average_leak_fract_gross(leak_by_area)"
   ]
  },
  {
   "cell_type": "code",
   "execution_count": null,
   "metadata": {},
   "outputs": [],
   "source": [
    "# show oil fraction covered so far (approx., because GOM state waters is approx.)\n",
    "oil_prod_year.sum()/oil_prod_cont_us"
   ]
  },
  {
   "cell_type": "code",
   "execution_count": null,
   "metadata": {},
   "outputs": [],
   "source": [
    "# show oil fraction covered so far, excluding GOM state waters\n",
    "(oil_prod_year.sum() - oil_prod_year.at['GOM state waters'])/oil_prod_cont_us"
   ]
  },
  {
   "cell_type": "code",
   "execution_count": null,
   "metadata": {},
   "outputs": [],
   "source": [
    "def reformat_docs_table_3_1_for_display(docs_table_3_1):\n",
    "    df = docs_table_3_1.copy()\n",
    "    df = df.sort_values(by='Gross gas (Bcf)', ascending=False)\n",
    "    df = df.set_index('Production area')\n",
    "    \n",
    "    # calculate weighted average leakage\n",
    "    bcf_leaked = df[['Gross gas (Bcf)', 'methane leak fract']].product(axis=1)\n",
    "#     print(f\"bcf_leaked.sum(): {bcf_leaked.sum()}; df['Gross gas (Bcf)'].sum(): {df['Gross gas (Bcf)'].sum()}\")\n",
    "    df.at['Contiguous U.S. total', 'methane leak fract'] = bcf_leaked.sum() / df['Gross gas (Bcf)'].sum()\n",
    "    \n",
    "    # put in totals\n",
    "    df.at['Contiguous U.S. total', 'cont US fract'] = df['cont US fract'].sum()\n",
    "    df.at['Contiguous U.S. total', 'Gross gas (Bcf)'] = df['Gross gas (Bcf)'].sum()\n",
    "    \n",
    "    # reformat columns\n",
    "    df['Gross gas (Bcf)'] = df['Gross gas (Bcf)'].round(0).astype(int)\n",
    "    df['cont US %'] = (df['cont US fract']*100).round(1).astype(str) + '%'\n",
    "    df['methane leak %'] = (df['methane leak fract']*100).round(2).astype(str) + '%'\n",
    "    \n",
    "    df = df.drop(['cont US fract', 'methane leak fract'], axis=1)\n",
    "    \n",
    "    docs_table_3_1_display = df\n",
    "    \n",
    "    return docs_table_3_1_display"
   ]
  },
  {
   "cell_type": "code",
   "execution_count": null,
   "metadata": {},
   "outputs": [],
   "source": [
    "# run function to show result:\n",
    "reformat_docs_table_3_1_for_display(docs_table_3_1)"
   ]
  },
  {
   "cell_type": "markdown",
   "metadata": {},
   "source": [
    "## split each region's production between states\n",
    "based on county-level data"
   ]
  },
  {
   "cell_type": "code",
   "execution_count": null,
   "metadata": {},
   "outputs": [],
   "source": [
    "def calculate_totals_by_state_measured_areas(leak_by_area):\n",
    "    # calculate totals for each state\n",
    "    # (these are not total leakage values; only for areas measured by methane leakage studies)\n",
    "    df = leak_by_area.copy()\n",
    "    \n",
    "    for col in [\n",
    "    'gross gas production (Bcf)',\n",
    "    'leakage fraction',\n",
    "    'CH4 fraction in gross gas',\n",
    "    'CH4 leaked (Bcf)',\n",
    "    'CH4 leaked (tons)'\n",
    "    ]:\n",
    "        df[col] = df[col].astype(float)\n",
    "\n",
    "    df['gross gas leaked (Bcf)'] = df[['gross gas production (Bcf)', 'leakage fraction']].product(axis=1)\n",
    "    df = df.groupby('state')[['gross gas production (Bcf)', 'gross gas leaked (Bcf)', 'CH4 leaked (Bcf)', 'CH4 leaked (tons)']].sum()\n",
    "    \n",
    "    measured_leak_by_state = df\n",
    "    return measured_leak_by_state"
   ]
  },
  {
   "cell_type": "code",
   "execution_count": null,
   "metadata": {},
   "outputs": [],
   "source": [
    "def clean_eia_gross_gas_prod(eia_gross_prod_all_yr_mmcf):\n",
    "    \n",
    "    # convert from MMcf to Bcf\n",
    "    df = eia_gross_prod_all_yr_mmcf / 1000\n",
    "    df.name = 'gross gas prod (Bcf) total'\n",
    "\n",
    "    # clean up\n",
    "    df = df.drop(\n",
    "        ['U.S.', 'Other States', 'Alaska']\n",
    "    )\n",
    "    df = df.rename(\n",
    "        index={'Federal Offshore--Gulf of Mexico': 'GOM (federal)'})\n",
    "\n",
    "    # exclude those with 'onshore', 'offshore', 'other states'\n",
    "    for row in df.index:\n",
    "        if 'offshore' in row.lower() or 'onshore' in row.lower():\n",
    "            df = df.drop(row)\n",
    "    \n",
    "    eia_gross_prod_all_yr_bcf = df\n",
    "            \n",
    "    return eia_gross_prod_all_yr_bcf"
   ]
  },
  {
   "cell_type": "code",
   "execution_count": null,
   "metadata": {},
   "outputs": [],
   "source": [
    "def fill_in_leakage_for_unmeasured_areas(\n",
    "    measured_leak_by_state, \n",
    "    eia_gross_prod_all_yr_mmcf, \n",
    "    dry_gas_en_fract_of_dgno_by_state, \n",
    "    default_ch4_share_in_gross_gas, \n",
    "    weighted_average_leak_fract\n",
    "):\n",
    "    \"\"\"\n",
    "    For production areas in contiguous US that were not covered by methane leakage studies, calculate leakage.\n",
    "    \n",
    "    Calculate the remaining production for each state from EIA data.\n",
    "    \n",
    "    Apply default leakage rate to that remaining production.\n",
    "    \"\"\"\n",
    "    mcf_per_bcf = 1e6\n",
    "    \n",
    "    df = measured_leak_by_state.copy()\n",
    "    df = df.rename(columns={'gross gas production (Bcf)': 'gross gas prod (Bcf) measured'})\n",
    "    \n",
    "    # get EIA data on gross production; clean up\n",
    "    eia_gross_prod_all_yr_bcf = clean_eia_gross_gas_prod(eia_gross_prod_all_yr_mmcf)\n",
    "    \n",
    "    # merge in total gross gas production for each state\n",
    "    df = pd.merge(\n",
    "        df, \n",
    "        eia_gross_prod_all_yr_bcf,\n",
    "        left_index=True,\n",
    "        right_index=True,\n",
    "        how='outer',\n",
    "        suffixes=(' measured', ' total')\n",
    "    )\n",
    "\n",
    "    for col in df.columns:\n",
    "        df[col] = df[col].fillna(0)\n",
    "    \n",
    "    # calculate volume of gas production not covered by measurements\n",
    "    df['uncovered gross gas (Bcf)'] = df['gross gas prod (Bcf) total'].sub(\n",
    "        df['gross gas prod (Bcf) measured'], fill_value=0)\n",
    "\n",
    "    df['pct measured'] = df['gross gas prod (Bcf) measured'].div(df['gross gas prod (Bcf) total'])\n",
    "   \n",
    "    # fill in leakage for areas not measured by methane leakage studies\n",
    "    # for those with negative values in 'uncovered gross gas (Bcf)', don't add any more leakage\n",
    "    # (negative values mean that state data for areas covered summed to slightly more than EIA data for those states)\n",
    "    \n",
    "    if oil_based_leakage_fract == False:\n",
    "        print(f\"Using nationwide average leakage % as default: {round(100*weighted_average_leak_fract, 1)}%\")\n",
    "    else:\n",
    "        pass\n",
    "    \n",
    "    for state in df.index:\n",
    "        uncovered_wg_bcf = df.at[state, 'uncovered gross gas (Bcf)']\n",
    "        if uncovered_wg_bcf > 0:\n",
    "            # for uncovered, multiply by default leakage rate to calculate leakage volume\n",
    "            # put that value into df for leakage quantity\n",
    "            if oil_based_leakage_fract == False:\n",
    "                uncovered_leak_fract = weighted_average_leak_fract\n",
    "                \n",
    "            elif oil_based_leakage_fract == True:\n",
    "                \n",
    "                # estimate leakage fraction based on correlation between DG fract of DGNO & leakage rate from other states\n",
    "                # did the fit in Excel, for top 13 producing states, except for WY, since these were those with nearly all production with methane measurements\n",
    "                # (so they had little input from default calculations)\n",
    "                # the states were: TX, PA, OK, LA, OH, CO, WV, NM, GOM (Federal), ND, AR, UT, CA\n",
    "                # got fit R^2 = 0.465\n",
    "                # the fit was very close to the line connecting ND (5.8% leak, 16.4% DG in DGNO) to LA (1.5% leak, 89.1% DG in DNGO)\n",
    "                # so use those values \n",
    "                y2 = 5.8/100\n",
    "                y1 = 1.5/100\n",
    "                x2 = 16.4/100\n",
    "                x1 = 89.1/100\n",
    "                slope = (y2 - y1)/(x2 - x1)\n",
    "                intercept = y2 - (slope * x2)\n",
    "                \n",
    "                uncovered_leak_fract = slope * dry_gas_en_fract_of_dgno_by_state.at[state] + intercept\n",
    "                print(f\"{state}: default leakage rate: {round(100*uncovered_leak_fract, 1)}%\") # for db\n",
    "                \n",
    "            else:\n",
    "                print(\"ERROR!\" + f\" Unexpected value for oil_based_leakage_fract: {oil_based_leakage_fract}\")\n",
    "            \n",
    "            # CH4 leaked tons uncovered, from uncovered_leak_gross_gas_bcf\n",
    "            uncovered_leak_wg_bcf = uncovered_wg_bcf * uncovered_leak_fract\n",
    "            uncovered_leak_ch4_tons = uncovered_leak_wg_bcf * mcf_per_bcf * default_ch4_share_in_gross_gas * (ch4_kg_per_mcf/1000)\n",
    "\n",
    "            df.at[state, 'uncovered gross gas leaked (Bcf)'] = uncovered_leak_wg_bcf\n",
    "            df.at[state, 'uncovered CH4 leaked (tons)'] = uncovered_leak_ch4_tons\n",
    "        else:\n",
    "            df.at[state, 'uncovered gross gas leaked (Bcf)'] = 0\n",
    "            df.at[state, 'uncovered CH4 leaked (tons)'] = 0\n",
    "\n",
    "    df['gross gas leaked (tons) total'] = df[['gross gas leaked (Bcf)', 'uncovered gross gas leaked (Bcf)']].sum(axis=1)        \n",
    "    df['CH4 leaked (tons) total'] = df[['CH4 leaked (tons)', 'uncovered CH4 leaked (tons)']].sum(axis=1)\n",
    "    df['leakage fraction'] = df['gross gas leaked (tons) total'].div(df['gross gas prod (Bcf) total'], fill_value=None)\n",
    "    \n",
    "    leak_by_state = df\n",
    "    \n",
    "    return leak_by_state"
   ]
  },
  {
   "cell_type": "code",
   "execution_count": null,
   "metadata": {},
   "outputs": [],
   "source": [
    "measured_leak_by_state = calculate_totals_by_state_measured_areas(leak_by_area)\n",
    "\n",
    "default_ch4_share_in_gross_gas = leak_by_area[\n",
    "    ['gross gas production (Bcf)', 'CH4 fraction in gross gas']\n",
    "].product(axis=1).sum()/leak_by_area['gross gas production (Bcf)'].sum()\n",
    "\n",
    "leak_by_state = fill_in_leakage_for_unmeasured_areas(\n",
    "    measured_leak_by_state, eia_gross_prod_all_yr_mmcf, \n",
    "    dry_gas_en_fract_of_dgno_by_state, default_ch4_share_in_gross_gas, \n",
    "    weighted_average_leak_fract)"
   ]
  },
  {
   "cell_type": "code",
   "execution_count": null,
   "metadata": {},
   "outputs": [],
   "source": [
    "cont_us_leak_prod_oil_gas_ton_ch4 = leak_by_state['CH4 leaked (tons) total'].sum()\n",
    "print(f\"GIM production area leakage (O&G): {round(cont_us_leak_prod_oil_gas_ton_ch4/1e6, 4)} Tg\")"
   ]
  },
  {
   "cell_type": "code",
   "execution_count": null,
   "metadata": {},
   "outputs": [],
   "source": [
    "# # export:\n",
    "# save_timestamp = time.strftime('%Y-%m-%d_%H%M', time.localtime())\n",
    "# leak_by_state_display.to_excel(\n",
    "#     lca_path + f'GIM production area leakage by producing state {save_timestamp}.xlsx'\n",
    "# )"
   ]
  },
  {
   "cell_type": "code",
   "execution_count": null,
   "metadata": {},
   "outputs": [],
   "source": [
    "# for each state, sum gross gas production\n",
    "# calculate remaining gross gas production without methane measurements\n",
    "# put in default leakage fraction and default CH4 fraction in gross gas\n",
    "# calculate CH4 leaked (Bcf & tons)\n",
    "# then groupby sum for each state\n",
    "# compare with other version I made to see if there were mistakes\n",
    "\n",
    "gas_producing_states = [\n",
    "    'Alaska', 'Arkansas', 'California', 'Colorado', 'GOM (federal)', 'Louisiana', \n",
    "    'Montana', 'New Mexico', 'North Dakota', 'Ohio', 'Oklahoma', 'Pennsylvania', \n",
    "    'Texas', 'Utah', 'West Virginia', 'Wyoming',\n",
    "    'Alabama', 'Arizona', 'Florida', 'Idaho', 'Illinois', 'Indiana', 'Kentucky',\n",
    "    'Maryland', 'Michigan', 'Mississippi', 'Missouri', 'Nebraska', 'Nevada',\n",
    "    'New York', 'Oregon', 'South Dakota', 'Tennessee', 'Virginia']\n",
    "\n",
    "if contiguous_us_only==True:\n",
    "    gas_producing_states.remove('Alaska')\n",
    "\n",
    "# NEW FUNCTION FOR DOCUMENTATION:\n",
    "def fill_in_production_without_methane_leak_measurements(leak_by_area, eia_gross_prod_all_yr_mmcf):\n",
    "    gross_gas_mmcf = eia_gross_prod_all_yr_mmcf.copy()\n",
    "    gross_gas_mmcf = gross_gas_mmcf.loc[gross_gas_mmcf.index.isin(gas_producing_states)]\n",
    "    gross_gas_mmcf.name = 'gross gas production (MMcf) [whole state]'\n",
    "\n",
    "    df = leak_by_area.copy()\n",
    "    df['gross gas production (MMcf)'] = df['gross gas production (Bcf)'] * 1000\n",
    "    df['CH4 leaked (MMcf)'] = df['CH4 leaked (Bcf)'] * 1000\n",
    "    df = df.drop(['gross gas production (Bcf)', 'CH4 leaked (Bcf)'], axis=1)\n",
    "    \n",
    "    for state in gas_producing_states:\n",
    "        gross_gas_state_mmcf = gross_gas_mmcf.at[state]\n",
    "        gross_gas_state_meas_mmcf = df.loc[df['state']==state]['gross gas production (MMcf)'].sum()\n",
    "        gross_gas_state_not_meas_mmcf = gross_gas_state_mmcf - gross_gas_state_meas_mmcf\n",
    "\n",
    "        if gross_gas_state_not_meas_mmcf > 0:\n",
    "            df_index_new = df.index.max() + 1\n",
    "            df.at[df_index_new, 'state'] = state\n",
    "            df.at[df_index_new, 'region'] = 'other'\n",
    "            df.at[df_index_new, 'gross gas production (MMcf)'] = gross_gas_state_not_meas_mmcf\n",
    "            df.at[df_index_new, 'leakage fraction'] = weighted_average_leak_fract\n",
    "            df.at[df_index_new, 'CH4 fraction in gross gas'] = default_ch4_share_in_gross_gas\n",
    "            ch4_leaked_mmcf = gross_gas_state_not_meas_mmcf * default_ch4_share_in_gross_gas * weighted_average_leak_fract\n",
    "            df.at[df_index_new, 'CH4 leaked (MMcf)'] = ch4_leaked_mmcf\n",
    "            mcf_per_mmcf = 1e3\n",
    "            ton_per_kg = 1e-3\n",
    "            ch4_leaked_tons = ch4_leaked_mmcf * mcf_per_mmcf * ch4_kg_per_mcf * ton_per_kg\n",
    "            df.at[df_index_new, 'CH4 leaked (tons)'] = ch4_leaked_tons\n",
    "    \n",
    "    df.insert(6, 'CH4 density (kg/Mcf)', ch4_kg_per_mcf)\n",
    "    \n",
    "    # concat totals\n",
    "    state_totals = pd.DataFrame(gross_gas_mmcf)\n",
    "    state_totals = pd.concat([\n",
    "        state_totals, \n",
    "        gas_dry_year_mmcf, \n",
    "        ngl_prod_bbl_year, ngl_energy_density,\n",
    "        oil_prod_bbl_year\n",
    "    ], axis=1)\n",
    "    state_totals = state_totals.loc[state_totals.index.isin(gas_producing_states)]\n",
    "    state_totals = state_totals.reset_index()\n",
    "    state_totals = state_totals.rename(\n",
    "        columns={'index': 'state', \n",
    "                 'gross gas production (MMcf) [whole state]': 'gross gas production (MMcf)'})\n",
    "    state_totals['region'] = 'all regions'\n",
    "    state_totals['dry gas energy density (mmbtu/MMcf)'] = dry_gas_en_dens_btu_per_cf\n",
    "    state_totals['oil energy density (mmbtu/bbl)'] = oil_en_dens_mmbtu_per_bbl\n",
    "    df = pd.concat([df, state_totals], sort=False)\n",
    "    \n",
    "    # bring in gross gas production by state, for sorting\n",
    "    df = pd.merge(df, gross_gas_mmcf, left_on='state', right_index=True, how='left') # , suffixes=('', ' for sorting'))\n",
    "    df = df.sort_values(by=[\n",
    "        'gross gas production (MMcf) [whole state]', \n",
    "        'gross gas production (MMcf)'\n",
    "    ], ascending=[False, False])\n",
    "    df = df.drop('gross gas production (MMcf) [whole state]', axis=1)\n",
    "    df = df.reset_index(drop=True)\n",
    "    \n",
    "    for state in gas_producing_states:\n",
    "        total_leak_by_state = df.groupby('state')['CH4 leaked (tons)'].sum()\n",
    "        # get index:\n",
    "        all_regions_index = df.loc[(df['state']==state) & (df['region']=='all regions')].index[0]\n",
    "        df.at[all_regions_index, 'CH4 leaked (tons)'] = total_leak_by_state.at[state]\n",
    "\n",
    "    dry_gas_mmbtu = df['dry gas production (MMcf)'] * df['dry gas energy density (mmbtu/MMcf)']\n",
    "    df.insert(10, 'dry gas production (mmbtu)', dry_gas_mmbtu)\n",
    "    \n",
    "    ngl_mmbtu = df['NGL production (bbl)'] * df['NGL energy density (mmbtu/bbl)']\n",
    "    df.insert(13, 'NGL production (mmbtu)', ngl_mmbtu)\n",
    "    \n",
    "    df['oil production (mmbtu)'] = df['oil production (bbl)'] * df['oil energy density (mmbtu/bbl)']\n",
    "    \n",
    "    df['total energy (mmbtu)'] = df[[\n",
    "        'dry gas production (mmbtu)', \n",
    "        'NGL production (mmbtu)', \n",
    "        'oil production (mmbtu)']\n",
    "    ].sum(axis=1, skipna=True).replace(0, np.nan)\n",
    "    df['% energy from dry gas'] = df['dry gas production (mmbtu)'] / df['total energy (mmbtu)']\n",
    "    df['CH4 leaked alloc dry gas (tons)'] = df['CH4 leaked (tons)'] * df['% energy from dry gas']\n",
    "    g_per_ton = 1e6\n",
    "    mcf_per_mmcf = 1e3\n",
    "    df['dry gas CH4 leakage rate (g CH4/Mcf dry gas)'] = df['CH4 leaked alloc dry gas (tons)'] * g_per_ton / (df['dry gas production (MMcf)'] * mcf_per_mmcf)\n",
    "    \n",
    "    # reorder columns:\n",
    "    df = df[[\n",
    "        'state',\n",
    "        'region',\n",
    "        'gross gas production (MMcf)', 'CH4 fraction in gross gas', 'leakage fraction',\n",
    "        'CH4 leaked (MMcf)', 'CH4 density (kg/Mcf)', 'CH4 leaked (tons)', \n",
    "        'dry gas production (MMcf)', 'dry gas energy density (mmbtu/MMcf)', 'dry gas production (mmbtu)',\n",
    "        'NGL production (bbl)', 'NGL energy density (mmbtu/bbl)', 'NGL production (mmbtu)', \n",
    "        'oil production (bbl)', 'oil energy density (mmbtu/bbl)', 'oil production (mmbtu)',\n",
    "        'total energy (mmbtu)', '% energy from dry gas', \n",
    "        'CH4 leaked alloc dry gas (tons)',\n",
    "        'dry gas CH4 leakage rate (g CH4/Mcf dry gas)'\n",
    "    ]]\n",
    "    \n",
    "    df = df.rename(columns={'leakage fraction': 'leakage rate (% of gross gas that leaks)'})\n",
    "            \n",
    "    leak_by_area_complete = df\n",
    "    return leak_by_area_complete"
   ]
  },
  {
   "cell_type": "code",
   "execution_count": null,
   "metadata": {},
   "outputs": [],
   "source": [
    "leak_by_area_complete = fill_in_production_without_methane_leak_measurements(leak_by_area, eia_gross_prod_all_yr_mmcf)\n",
    "\n",
    "# export\n",
    "save_timestamp = time.strftime('%Y-%m-%d_%H%M', time.localtime())\n",
    "leak_by_area_complete.to_excel(\n",
    "    lca_path + f'GIM leak by area complete {save_timestamp}.xlsx', \n",
    "    index=False)"
   ]
  },
  {
   "cell_type": "code",
   "execution_count": null,
   "metadata": {},
   "outputs": [],
   "source": [
    "# show:\n",
    "leak_by_area_complete.loc[leak_by_area_complete['region']=='all regions'][\n",
    "    ['state', 'dry gas production (MMcf)', 'dry gas CH4 leakage rate (g CH4/Mcf dry gas)']\n",
    "].sort_values(by='dry gas CH4 leakage rate (g CH4/Mcf dry gas)', ascending=False)"
   ]
  },
  {
   "cell_type": "code",
   "execution_count": null,
   "metadata": {},
   "outputs": [],
   "source": [
    "prod_leak_gg = leak_by_area_complete.loc[leak_by_area_complete['region']!='all regions']['CH4 leaked (tons)'].sum() * gg_per_ton\n",
    "prod_leak_gg"
   ]
  },
  {
   "cell_type": "code",
   "execution_count": null,
   "metadata": {},
   "outputs": [],
   "source": [
    "import math\n",
    "\n",
    "df = leak_by_area.copy()\n",
    "df['region'] = df['region'].str.split(' - ').str[0]\n",
    "df = df.groupby('region')[['CH4 leaked (tons)']].sum()\n",
    "# convert to million tons\n",
    "df['CH4 leaked (million tons)'] = df['CH4 leaked (tons)']/1e6\n",
    "df = df.drop('CH4 leaked (tons)', axis=1)\n",
    "df = df.sort_values('CH4 leaked (million tons)', ascending=False)\n",
    "\n",
    "# calculate diameter of circles, such that area of circle is proportional to leakage\n",
    "# area = pi * (diameter/2) ^ 2\n",
    "df['diameter'] = 2 * (df['CH4 leaked (million tons)'] / math.pi)**(1/2)\n",
    "\n",
    "leak_by_area_for_graphic = df"
   ]
  },
  {
   "cell_type": "code",
   "execution_count": null,
   "metadata": {},
   "outputs": [],
   "source": [
    "leak_by_area_for_graphic['diameter']"
   ]
  },
  {
   "cell_type": "markdown",
   "metadata": {},
   "source": [
    "## Allocate leakage to dry gas (consumer-grade gas)\n",
    "(Excludes leakage allocated to NGLs and oil)"
   ]
  },
  {
   "cell_type": "code",
   "execution_count": null,
   "metadata": {},
   "outputs": [],
   "source": [
    "def allocate_leakage_to_dry_gas_produced_simple(\n",
    "    leak_by_state, \n",
    "    dry_gas_en_fract_of_dgno_by_state):\n",
    "    \"\"\"\n",
    "    Allocate production area leakage based on energy shares.\n",
    "    \n",
    "    Simple version: \n",
    "    Calculate share of energy from dry gas; allocate leakage proportionally.\n",
    "    \"\"\"\n",
    "    \n",
    "    df = leak_by_state.copy()\n",
    "    \n",
    "    print(\"in fn allocate_leakage_to_dry_gas_produced, running simple allocation\")\n",
    "    # simply divide leakage by the percentage of energy production from dry gas\n",
    "    prod = df['CH4 leaked (tons) total']\n",
    "    prod_df = pd.merge(prod, dry_gas_en_fract_of_dgno_by_state, left_index=True, right_index=True, how='outer')\n",
    "    prod_df = prod_df.drop(['U.S.', 'Alaska'])\n",
    "\n",
    "    prod_leak_ch4_ton_dg = prod_df[['CH4 leaked (tons) total', 'DG fract of DGNO']].product(axis=1)\n",
    "    prod_leak_ch4_ton_dg.name = 'prod leak alloc DG CH4 tons'\n",
    "\n",
    "    return prod_leak_ch4_ton_dg"
   ]
  },
  {
   "cell_type": "code",
   "execution_count": null,
   "metadata": {},
   "outputs": [],
   "source": [
    "def allocate_leakage_to_dry_gas_produced_complex(\n",
    "    leak_by_state, \n",
    "    dry_gas_en_fract_of_dgno_by_state, \n",
    "    dry_gas_en_fract_of_gross_gas_by_state):\n",
    "    \"\"\"\n",
    "    Allocate production area leakage based on energy shares.\n",
    "\n",
    "    Complex version:\n",
    "    Assume 70% of leakage from well sites. Split based on dry gas share of DNGO (dry gas & NGL & oil).\n",
    "    Assume 30% of leakage from gathering & processing. Split based on dry gas share of gross gas (dry gas & NGL).\n",
    "    \"\"\"\n",
    "    \n",
    "    df = leak_by_state.copy()\n",
    "\n",
    "    print(\"in fn allocate_leakage_to_dry_gas_produced, running complex allocation\")\n",
    "    # assume 70% of leakage in production areas is from production itself (based on Alvarez 2018)\n",
    "    prod = df['CH4 leaked (tons) total'] * 0.7\n",
    "    prod_df = pd.merge(prod, dry_gas_en_fract_of_dgno_by_state, left_index=True, right_index=True, how='outer')\n",
    "    prod_df = prod_df.drop(['U.S.', 'Alaska'])\n",
    "\n",
    "    prod_leak_dg = prod_df[['CH4 leaked (tons) total', 'DG fract of DGNO']].product(axis=1)\n",
    "    prod_leak_dg.name = 'production leak alloc DG CH4 tons'\n",
    "\n",
    "    # -------\n",
    "\n",
    "    # assume 30% of leakage in production areas is from gathering & processing (based on Alvarez 2018)\n",
    "    gath_proc = df['CH4 leaked (tons) total'] * 0.3\n",
    "    gath_proc_df = pd.merge(gath_proc, dry_gas_en_fract_of_gross_gas_by_state, left_index=True, right_index=True, how='outer')\n",
    "    gath_proc_df = gath_proc_df.drop(['U.S.', 'Alaska'])\n",
    "\n",
    "    gath_proc_dg = gath_proc_df[['CH4 leaked (tons) total', 'DG fract of WG']].product(axis=1)\n",
    "    gath_proc_dg.name = 'gath & proc leak alloc DG CH4 tons'\n",
    "\n",
    "    prod_leak_ch4_ton_dg = pd.concat([prod_leak_dg, gath_proc_dg], axis=1).sum(axis=1)\n",
    "    prod_leak_ch4_ton_dg.name = 'prod leak alloc DG CH4 tons'\n",
    "\n",
    "    return(prod_leak_ch4_ton_dg, prod_df, gath_proc_df)"
   ]
  },
  {
   "cell_type": "code",
   "execution_count": null,
   "metadata": {},
   "outputs": [],
   "source": [
    "def calculate_prod_leak_rate_g_ch4_per_mcf_dg(\n",
    "    leak_by_state, prod_leak_ch4_ton_dg, gas_dry_year_mmcf, data_year):\n",
    "    \"\"\"\n",
    "    Calculates the weighted average production-area leakage rate, \n",
    "    for those production areas covered by methane leakage measurements.\n",
    "    Sums methane leakage and sums dry gas production, dividing the first by the second.\n",
    "    \"\"\"\n",
    "    df = pd.merge(\n",
    "        prod_leak_ch4_ton_dg, \n",
    "        gas_dry_year_mmcf, \n",
    "        left_index=True, right_index=True, how='left')\n",
    "    \n",
    "    measured_area_leak_g = df['prod leak alloc DG CH4 tons'] * g_per_ton\n",
    "    measured_area_dg_mcf = df['dry gas production (MMcf)'] * mcf_per_mmcf\n",
    "    \n",
    "    print(f\"show measured_area_dg_mcf.sum(): {measured_area_dg_mcf.sum()}\")\n",
    "    \n",
    "    df['prod leak g CH4/Mcf DG'] = measured_area_leak_g / measured_area_dg_mcf\n",
    "    meas_prod_leak_g_ch4_per_mcf_avg = measured_area_leak_g.sum() / measured_area_dg_mcf.sum()\n",
    "    \n",
    "    # dropna (get rid of any states that have no production, e.g., Missouri)\n",
    "    df = df.dropna(subset=['prod leak g CH4/Mcf DG'])\n",
    "\n",
    "    prod_leak_g_ch4_per_mcf_dg = df['prod leak g CH4/Mcf DG']\n",
    "    \n",
    "    # percentage of production area leakage allocated to dry gas (cont US average)\n",
    "    # out of total leakage from oil & gas (OG) production\n",
    "    cont_us_leak_prod_OG_ton_ch4 = leak_by_state['CH4 leaked (tons) total'].sum()\n",
    "    prod_leak_share_dg = prod_leak_ch4_ton_dg.sum() / cont_us_leak_prod_OG_ton_ch4\n",
    "    print(f\"% of prod area leakage allocated to dry gas: {round(100*prod_leak_share_dg, 2)}%\")\n",
    "\n",
    "    return(prod_leak_g_ch4_per_mcf_dg, prod_leak_share_dg, meas_prod_leak_g_ch4_per_mcf_avg)"
   ]
  },
  {
   "cell_type": "code",
   "execution_count": null,
   "metadata": {},
   "outputs": [],
   "source": [
    "if allocate_prod_leakage_mode == 'simple':\n",
    "    prod_leak_ch4_ton_dg = allocate_leakage_to_dry_gas_produced_simple(\n",
    "        leak_by_state, dry_gas_en_fract_of_dgno_by_state)\n",
    "\n",
    "elif allocate_prod_leakage_mode == 'complex':\n",
    "    (prod_leak_ch4_ton_dg, prod_df, gath_proc_df) = allocate_leakage_to_dry_gas_produced_complex(\n",
    "        leak_by_state, dry_gas_en_fract_of_dgno_by_state, dry_gas_en_fract_of_gross_gas_by_state)\n",
    "    \n",
    "(prod_leak_g_ch4_per_mcf_dg, \n",
    " prod_leak_share_dg, \n",
    " prod_leak_g_ch4_per_mcf_avg) = calculate_prod_leak_rate_g_ch4_per_mcf_dg(\n",
    "    leak_by_state, prod_leak_ch4_ton_dg, gas_dry_year_mmcf, data_year)"
   ]
  },
  {
   "cell_type": "code",
   "execution_count": null,
   "metadata": {},
   "outputs": [],
   "source": [
    "# shows shares of energy production\n",
    "# (energy % as dry gas should match--at least, quite closely--the % of leakage allocated to dry gas)\n",
    "table_en_fract_cont_us = table_en_fract.drop(['U.S.', 'Alaska'])\n",
    "\n",
    "gas_fract = table_en_fract_cont_us['dry gas production (mmbtu)'].sum() / table_en_fract_cont_us['dgno mmbtu'].sum()\n",
    "ngl_fract = table_en_fract_cont_us['NGL production (mmbtu)'].sum() / table_en_fract_cont_us['dgno mmbtu'].sum()\n",
    "oil_fract = table_en_fract_cont_us['oil production (mmbtu)'].sum() / table_en_fract_cont_us['dgno mmbtu'].sum()\n",
    "print(\"for contiguous U.S.:\")\n",
    "print(f\"gas: {round(100*gas_fract, 2)}%\")\n",
    "print(f\"NGL: {round(100*ngl_fract, 2)}%\")\n",
    "print(f\"oil: {round(100*oil_fract, 2)}%\")\n",
    "print(f\"total: {round(100*(gas_fract + ngl_fract + oil_fract), 1)}%\")"
   ]
  },
  {
   "cell_type": "code",
   "execution_count": null,
   "metadata": {},
   "outputs": [],
   "source": [
    "table_en_fract.head()"
   ]
  },
  {
   "cell_type": "code",
   "execution_count": null,
   "metadata": {},
   "outputs": [],
   "source": [
    "# total production area leakage contiguous US (from oil, NGLs, and gas); units are Gg\n",
    "leak_by_state['CH4 leaked (tons) total'].sum()/1e3"
   ]
  },
  {
   "cell_type": "code",
   "execution_count": null,
   "metadata": {},
   "outputs": [],
   "source": [
    "# show kt (aka Gg) of CH4 from production areas allocated to dry gas\n",
    "prod_leak_ch4_dg_gg = prod_leak_ch4_ton_dg.sum()/1000\n",
    "print(round(prod_leak_ch4_dg_gg, 1))"
   ]
  },
  {
   "cell_type": "code",
   "execution_count": null,
   "metadata": {},
   "outputs": [],
   "source": [
    "# show kt (aka Gg) of CH4 from production areas NOT allocated to dry gas\n",
    "round((leak_by_state['CH4 leaked (tons) total'].sum() - prod_leak_ch4_ton_dg.sum())/1000, 1)"
   ]
  },
  {
   "cell_type": "code",
   "execution_count": null,
   "metadata": {},
   "outputs": [],
   "source": [
    "prod_leak_g_ch4_per_mcf_avg"
   ]
  },
  {
   "cell_type": "code",
   "execution_count": null,
   "metadata": {},
   "outputs": [],
   "source": [
    "# export\n",
    "save_timestamp = time.strftime('%Y-%m-%d_%H%M', time.localtime())\n",
    "leak_by_state.to_excel(lca_path + f'GIM results - production area leakage by state {save_timestamp}.xlsx')"
   ]
  },
  {
   "cell_type": "markdown",
   "metadata": {},
   "source": [
    "## Create tables for report"
   ]
  },
  {
   "cell_type": "code",
   "execution_count": null,
   "metadata": {},
   "outputs": [],
   "source": [
    "prod_leak_g_ch4 = prod_leak_ch4_ton_dg * g_per_ton\n",
    "prod_leak_g_ch4_per_mcf = prod_leak_g_ch4 / (gas_dry_year_mmcf * mcf_per_mmcf)\n",
    "prod_leak_g_ch4_per_mcf.name = 'prod leak g CH4/Mcf dry gas'\n",
    "\n",
    "gas_dry_year_bcf = gas_dry_year_mmcf / 1000\n",
    "gas_dry_year_bcf.name = 'dry gas production (Bcf)'\n",
    "\n",
    "df = pd.merge(\n",
    "    gas_dry_year_bcf, prod_leak_g_ch4_per_mcf, \n",
    "    left_index=True, right_index=True, how='inner')\n",
    "df = df.sort_values(by='dry gas production (Bcf)', ascending=False)\n",
    "df = df.dropna(how='any')\n",
    "table_5_4 = df"
   ]
  },
  {
   "cell_type": "code",
   "execution_count": null,
   "metadata": {},
   "outputs": [],
   "source": [
    "table_5_4.head(15)"
   ]
  },
  {
   "cell_type": "code",
   "execution_count": null,
   "metadata": {},
   "outputs": [],
   "source": [
    "# notes about states with high estimated leakage rate per Mcf dry gas:\n",
    "\n",
    "# Florida is an extreme case; has much smaller dry gas and marketed gas, compared to gross extraction\n",
    "# In FL, most gross gas extracted is reinjected (repressuring)\n",
    "# (although FL production is so low it doesn't matter, even for consumption within FL)"
   ]
  },
  {
   "cell_type": "markdown",
   "metadata": {},
   "source": [
    "## Comparison with Alvarez 2018"
   ]
  },
  {
   "cell_type": "code",
   "execution_count": null,
   "metadata": {},
   "outputs": [],
   "source": [
    "# gross gas production for 2015; all units MMcf\n",
    "us_gross_2015 = 32914647\n",
    "alaska_gross_2015 = 3175301\n",
    "cont_us_2015 = us_gross_2015 - alaska_gross_2015\n",
    "cont_us_share_2015 = cont_us_2015/us_gross_2015\n",
    "\n",
    "# gross gas production for data_year; all units MMcf\n",
    "us_gross_year = eia_gross_prod_all_yr_mmcf.at['U.S.']\n",
    "alaska_gross_year = eia_gross_prod_all_yr_mmcf.at['Alaska']\n",
    "cont_us_year = us_gross_year - alaska_gross_year\n",
    "cont_us_share_year = cont_us_year/us_gross_year"
   ]
  },
  {
   "cell_type": "code",
   "execution_count": null,
   "metadata": {},
   "outputs": [],
   "source": [
    "# shares of US gas produced in contiguous US\n",
    "round(cont_us_share_2015, 3), round(cont_us_share_year, 3)"
   ]
  },
  {
   "cell_type": "code",
   "execution_count": null,
   "metadata": {},
   "outputs": [],
   "source": [
    "alvarez_prod_area_leak_tg = 10.9\n",
    "alvarez_prod_area_leak_tg_cont_us = alvarez_prod_area_leak_tg * cont_us_share_2015\n",
    "\n",
    "print(f\"Alvarez 2018 production area leakage (O&G), contiguous US: {round(alvarez_prod_area_leak_tg_cont_us, 2)} Tg\")\n",
    "\n",
    "gim_prod_area_leak_tg = leak_by_state['CH4 leaked (tons) total'].sum()/1e6\n",
    "print(f\"GIM production area leakage (O&G), contiguous US: {round(gim_prod_area_leak_tg, 2)} Tg\")\n",
    "\n",
    "leak_fract_diff = (gim_prod_area_leak_tg - alvarez_prod_area_leak_tg_cont_us)/alvarez_prod_area_leak_tg_cont_us\n",
    "\n",
    "print(f\"Difference (GIM - Alvarez): {round(100*leak_fract_diff, 2)}%\")"
   ]
  },
  {
   "cell_type": "code",
   "execution_count": null,
   "metadata": {},
   "outputs": [],
   "source": [
    "leak_fract_diff\n",
    "print(f\"production area leakage %: GIM % higher than Alvarez: {round(100*((weighted_average_leak_fract - 1.9/100)/(1.9/100)), 1)}%\")"
   ]
  },
  {
   "cell_type": "code",
   "execution_count": null,
   "metadata": {},
   "outputs": [],
   "source": [
    "# change in production\n",
    "change_in_prod_fract = (cont_us_year - cont_us_2015)/cont_us_2015\n",
    "print(f\"change in production (%): {round(100*change_in_prod_fract, 1)}%\")"
   ]
  },
  {
   "cell_type": "code",
   "execution_count": null,
   "metadata": {},
   "outputs": [],
   "source": [
    "# given difference in leakage rates & difference in contiguous US production\n",
    "expected_increase_fract = ((1+change_in_prod_fract)*(1+leak_fract_diff))-1\n",
    "print(f\"Expectation for production leakage Tg in GIM to be this much higher than Alvarez: {round(expected_increase_fract*100, 1)}%\")"
   ]
  },
  {
   "cell_type": "markdown",
   "metadata": {},
   "source": [
    "# assign leakage to gas consumed"
   ]
  },
  {
   "cell_type": "markdown",
   "metadata": {},
   "source": [
    "## production-level leakage for gas consumed by each state"
   ]
  },
  {
   "cell_type": "code",
   "execution_count": null,
   "metadata": {},
   "outputs": [],
   "source": [
    "# for each state's gas supply, \n",
    "# for each producing state fraction,\n",
    "# look up the production leakage rate in prod_leak_g_ch4_per_mcf_dg\n",
    "# multiply the producing state fraction by the production leakage rate\n",
    "# when finished for each consuming state, sum the values to get the weighted average leakage from production for the state's gas supply"
   ]
  },
  {
   "cell_type": "code",
   "execution_count": null,
   "metadata": {},
   "outputs": [],
   "source": [
    "def calculate_ch4_rate_for_consumers(\n",
    "    supply_fract_file, gas_flows_timestamp, \n",
    "    prod_leak_g_ch4_per_mcf_dg, prod_leak_share_dg):\n",
    "    \n",
    "    # for each state, get attribution of consumption traced back to production areas\n",
    "    # import results from notebook 'GIM gas flows...'\n",
    "    try:\n",
    "        supply_fract = pd.read_excel(inputs_path + f'GIM gas flows results {gas_flows_timestamp}/' + supply_fract_file)\n",
    "    except:\n",
    "        print(\"Error!\" + \" File not found. It may be that the file needs to be moved to the GIM inputs folder.\")\n",
    "        print(f\"File name: {supply_fract_file}\")\n",
    "    supply_fract = supply_fract.set_index('consuming juris')\n",
    "\n",
    "    # note: column 'overseas' has NaN for every consuming juris, except for consuming juris 'overseas', where the value is 0\n",
    "    # so can drop the column 'overseas'\n",
    "    # also drop the row 'overseas'; used in gas flows sub-model to allocate production back to each state as best as possible\n",
    "    supply_fract = supply_fract.drop('overseas', axis=1)\n",
    "    supply_fract = supply_fract.drop('overseas', axis=0)\n",
    "\n",
    "    consump_juris_avg_leak_from_prod = pd.Series(dtype=float) # initialize\n",
    "\n",
    "    prod_leak_default_g_ch4_per_mcf = weighted_average_leak_fract * ch4_fract_in_ng_consumer_grade * ch4_kg_per_mcf * g_per_kg\n",
    "    prod_leak_default_g_ch4_per_mcf_alloc_dg = prod_leak_default_g_ch4_per_mcf * prod_leak_share_dg\n",
    "    print(f\"prod_leak_default_g_ch4_per_mcf_alloc_dg: {prod_leak_default_g_ch4_per_mcf_alloc_dg}\")\n",
    "\n",
    "    for consump_juris in supply_fract.index:\n",
    "        consump_supply_fract = supply_fract.loc[consump_juris]\n",
    "        df = pd.concat(\n",
    "            [consump_supply_fract, \n",
    "             prod_leak_g_ch4_per_mcf_dg], \n",
    "            axis=1, sort=False)\n",
    "        \n",
    "        # sort (useful if printing for debugging)\n",
    "        df = df.sort_values(by=consump_juris, ascending=False)\n",
    "\n",
    "        # if there are NaNs, fill with 0        \n",
    "        df[consump_juris] = df[consump_juris].fillna(0)\n",
    "        \n",
    "        # fill in missing values for production leakage rate\n",
    "        # (will fill in for Canada, Mexico, overseas)\n",
    "        df['prod leak g CH4/Mcf DG'] = df['prod leak g CH4/Mcf DG'].fillna(prod_leak_default_g_ch4_per_mcf_alloc_dg)\n",
    "\n",
    "        df = df.loc[df[consump_juris]>1e-9]\n",
    "        df = df.dropna(subset=[consump_juris])\n",
    "        df = df.sort_values(by=[consump_juris], ascending=False)\n",
    "\n",
    "        df['weighted leak'] = df[consump_juris] * df['prod leak g CH4/Mcf DG']\n",
    "\n",
    "        consump_juris_avg_leak_from_prod.at[consump_juris] = df['weighted leak'].sum()\n",
    "\n",
    "    consump_juris_avg_leak_from_prod.name = 'prod leak g CH4/Mcf dry gas'\n",
    "        \n",
    "    return consump_juris_avg_leak_from_prod"
   ]
  },
  {
   "cell_type": "code",
   "execution_count": null,
   "metadata": {},
   "outputs": [],
   "source": [
    "consump_juris_avg_leak_from_prod = calculate_ch4_rate_for_consumers(\n",
    "    supply_fract_file, gas_flows_timestamp, \n",
    "    prod_leak_g_ch4_per_mcf_dg, prod_leak_share_dg)"
   ]
  },
  {
   "cell_type": "code",
   "execution_count": null,
   "metadata": {},
   "outputs": [],
   "source": [
    "# export\n",
    "save_timestamp = time.strftime('%Y-%m-%d_%H%M', time.localtime())\n",
    "consump_juris_avg_leak_from_prod.to_csv(lca_path + f'GIM production area leakage rate by consuming state for {data_year} {save_timestamp}.csv')"
   ]
  },
  {
   "cell_type": "markdown",
   "metadata": {},
   "source": [
    "## results: show main supply sources for each state"
   ]
  },
  {
   "cell_type": "code",
   "execution_count": null,
   "metadata": {},
   "outputs": [],
   "source": [
    "consuming_state_sel = 'California'\n",
    "supply_fract = pd.read_excel(inputs_path + f'GIM gas flows results {gas_flows_timestamp}/' + supply_fract_file)\n",
    "df = supply_fract.copy().set_index('consuming juris')\n",
    "all_consuming_juris_dfs = [] # initialize\n",
    "for juris in [consuming_state_sel]:\n",
    "    juris_ser = df.loc[juris].sort_values(ascending=False)\n",
    "    juris_df = pd.DataFrame(juris_ser).reset_index()\n",
    "    juris_df = juris_df.rename(columns={'index': 'producing state'})\n",
    "    top = juris_df.copy().loc[0:6]\n",
    "    top_fract = top[juris].sum()\n",
    "    remainder_fract = 1 - top_fract\n",
    "    new_index = top.index.max()+1\n",
    "    top.at[new_index, 'producing state'] = 'other'\n",
    "    top.at[new_index, juris] = remainder_fract\n",
    "print(consuming_state_sel)\n",
    "top.T\n",
    "\n",
    "#     all_consuming_juris_dfs += [df]\n",
    "\n",
    "# all_consuming_juris = pd.concat(all_consuming_juris_dfs, sort=False)\n",
    "\n",
    "# all_consuming_juris"
   ]
  },
  {
   "cell_type": "code",
   "execution_count": null,
   "metadata": {},
   "outputs": [],
   "source": []
  }
 ],
 "metadata": {
  "kernelspec": {
   "display_name": "Python 3",
   "language": "python",
   "name": "python3"
  },
  "language_info": {
   "codemirror_mode": {
    "name": "ipython",
    "version": 3
   },
   "file_extension": ".py",
   "mimetype": "text/x-python",
   "name": "python",
   "nbconvert_exporter": "python",
   "pygments_lexer": "ipython3",
   "version": "3.7.0"
  }
 },
 "nbformat": 4,
 "nbformat_minor": 4
}
